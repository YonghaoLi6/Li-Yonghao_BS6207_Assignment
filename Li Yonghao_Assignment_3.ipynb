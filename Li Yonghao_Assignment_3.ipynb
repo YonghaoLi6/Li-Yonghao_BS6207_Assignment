{
 "cells": [
  {
   "cell_type": "code",
   "execution_count": 162,
   "metadata": {},
   "outputs": [],
   "source": [
    "import torch\n",
    "import matplotlib.pyplot as plt\n",
    "import numpy as np\n",
    "import torch.nn as nn\n",
    "import torchvision\n",
    "import math"
   ]
  },
  {
   "cell_type": "code",
   "execution_count": 163,
   "metadata": {},
   "outputs": [
    {
     "data": {
      "text/plain": [
       "tensor([[[[-0.4018,  0.5637,  1.5790,  ..., -1.4902,  0.9222,  2.0995],\n",
       "          [ 1.2707,  0.1096,  0.6486,  ...,  0.5181,  0.8627,  0.6728],\n",
       "          [ 0.3414,  1.0916, -0.4608,  ...,  1.2780,  0.1679, -0.1138],\n",
       "          ...,\n",
       "          [-0.0797, -0.4562, -1.0133,  ...,  0.7406, -0.9811,  0.9184],\n",
       "          [ 1.8042, -0.8830,  1.1719,  ...,  1.6560,  1.4520,  0.8545],\n",
       "          [ 0.6602,  1.2023, -1.6670,  ..., -0.3519, -0.8811, -0.5632]],\n",
       "\n",
       "         [[ 1.1295,  0.9663,  0.3004,  ..., -1.1769,  0.7458,  0.0457],\n",
       "          [ 0.9653,  0.3771, -0.2758,  ..., -1.3123, -1.6782,  0.2909],\n",
       "          [ 0.8747, -0.6194,  0.1227,  ...,  0.5766,  1.0668,  0.6622],\n",
       "          ...,\n",
       "          [ 0.3901, -0.7039,  0.6520,  ...,  0.1376, -0.1533,  0.1997],\n",
       "          [-0.5950, -0.4058,  0.6330,  ...,  0.5557, -0.1465,  0.1410],\n",
       "          [-0.2641, -0.8966, -0.2098,  ...,  1.6261, -0.5720, -0.2824]],\n",
       "\n",
       "         [[-0.8342,  2.2613, -0.3928,  ..., -0.3381, -0.2675, -0.0511],\n",
       "          [ 1.0093, -1.1090, -1.2432,  ..., -0.0328, -1.8870,  0.2218],\n",
       "          [ 0.6780, -0.3858,  0.5625,  ...,  1.2884, -0.6079, -0.4929],\n",
       "          ...,\n",
       "          [ 0.9601,  0.9562, -0.1626,  ..., -0.7805, -1.5606, -0.7908],\n",
       "          [ 0.2709, -1.4755, -1.2703,  ...,  0.3860,  0.7628,  0.4285],\n",
       "          [-0.2870,  0.5700,  0.0075,  ..., -1.0221, -0.4624,  0.5604]]]])"
      ]
     },
     "execution_count": 163,
     "metadata": {},
     "output_type": "execute_result"
    }
   ],
   "source": [
    "input = torch.randn(1, 3, 32, 32)\n",
    "input"
   ]
  },
  {
   "cell_type": "code",
   "execution_count": 559,
   "metadata": {},
   "outputs": [
    {
     "data": {
      "text/plain": [
       "tensor([[[2, 2, 0,  ..., 0, 2, 2],\n",
       "         [1, 1, 2,  ..., 0, 1, 2],\n",
       "         [1, 2, 0,  ..., 2, 2, 0],\n",
       "         ...,\n",
       "         [2, 1, 2,  ..., 0, 1, 0],\n",
       "         [1, 0, 2,  ..., 2, 1, 2],\n",
       "         [1, 2, 1,  ..., 1, 0, 0]]])"
      ]
     },
     "execution_count": 559,
     "metadata": {},
     "output_type": "execute_result"
    }
   ],
   "source": [
    "target = torch.randint(3, (1, 32, 32), dtype=torch.int64)\n",
    "target"
   ]
  },
  {
   "cell_type": "code",
   "execution_count": 174,
   "metadata": {},
   "outputs": [
    {
     "name": "stderr",
     "output_type": "stream",
     "text": [
      "Clipping input data to the valid range for imshow with RGB data ([0..1] for floats or [0..255] for integers).\n"
     ]
    },
    {
     "data": {
      "image/png": "[encoded data removed]",
      "text/plain": [
       "<Figure size 432x288 with 1 Axes>"
      ]
     },
     "metadata": {
      "needs_background": "light"
     },
     "output_type": "display_data"
    }
   ],
   "source": [
    "img=input[0]\n",
    "img=img.numpy()\n",
    "img = np.transpose(img, (1, 2, 0))\n",
    "plt.imshow(img)\n",
    "plt.show()"
   ]
  },
  {
   "cell_type": "markdown",
   "metadata": {},
   "source": [
    "# 1.1"
   ]
  },
  {
   "cell_type": "code",
   "execution_count": 630,
   "metadata": {},
   "outputs": [
    {
     "data": {
      "text/plain": [
       "tensor([[[[ 1.2707,  1.5790,  1.5790,  ...,  0.5181,  0.9222,  2.0995],\n",
       "          [ 1.2707,  1.0916,  1.4697,  ...,  1.2780,  1.2780,  0.8627],\n",
       "          [ 1.0916,  1.0916,  1.4697,  ...,  1.5892,  1.5892,  0.1679],\n",
       "          ...,\n",
       "          [ 1.4131,  0.7651,  1.0546,  ...,  1.9144,  1.9144,  1.8395],\n",
       "          [ 1.8042,  1.1719,  1.1719,  ...,  1.6560,  1.6560,  1.4520],\n",
       "          [ 1.8042,  1.2023,  1.4179,  ...,  1.6560,  1.6560,  1.4520]],\n",
       "\n",
       "         [[ 1.1295,  0.9663,  1.2357,  ...,  1.3574,  0.7458,  0.7458],\n",
       "          [ 0.9653,  0.3771,  1.2357,  ...,  1.3574,  1.0668,  1.0668],\n",
       "          [ 0.8747,  0.4287,  0.4287,  ...,  0.5766,  1.0668,  1.0668],\n",
       "          ...,\n",
       "          [ 1.7545,  1.7545,  2.2944,  ...,  1.6848,  0.1376,  0.2979],\n",
       "          [ 0.3901,  0.6520,  0.6520,  ...,  1.6848,  0.5557,  0.1997],\n",
       "          [-0.2641,  0.6330,  0.6330,  ...,  1.6261,  1.6261,  0.1410]],\n",
       "\n",
       "         [[ 2.2613,  2.2613,  1.3457,  ...,  1.9645, -0.0328,  0.2218],\n",
       "          [ 1.0093,  0.5625,  1.3457,  ...,  1.2884,  1.2884,  0.2218],\n",
       "          [ 0.6780,  0.5625,  0.8831,  ...,  1.5189,  1.5189,  0.2722],\n",
       "          ...,\n",
       "          [ 0.9797,  2.3320,  2.3320,  ...,  2.8021,  0.2663,  0.2327],\n",
       "          [ 0.9601,  0.9562,  0.7500,  ...,  2.8021,  0.7628,  0.7628],\n",
       "          [ 0.5700,  0.5700,  1.5865,  ...,  0.6657,  0.7628,  0.7628]]]])"
      ]
     },
     "execution_count": 630,
     "metadata": {},
     "output_type": "execute_result"
    }
   ],
   "source": [
    "maxpool2d = torch.nn.MaxPool2d(kernel_size=2, stride=1, padding=0, dilation=1, return_indices=False, ceil_mode=False)\n",
    "torch_out = maxpool(input)\n",
    "torch_out"
   ]
  },
  {
   "cell_type": "code",
   "execution_count": 615,
   "metadata": {},
   "outputs": [
    {
     "name": "stderr",
     "output_type": "stream",
     "text": [
      "Clipping input data to the valid range for imshow with RGB data ([0..1] for floats or [0..255] for integers).\n"
     ]
    },
    {
     "data": {
      "image/png": "[encoded data removed]",
      "text/plain": [
       "<Figure size 432x288 with 1 Axes>"
      ]
     },
     "metadata": {
      "needs_background": "light"
     },
     "output_type": "display_data"
    }
   ],
   "source": [
    "img=torch_out[0]\n",
    "img=img.numpy()\n",
    "img = np.transpose(img, (1, 2, 0))\n",
    "plt.imshow(img)\n",
    "plt.show()"
   ]
  },
  {
   "cell_type": "code",
   "execution_count": null,
   "metadata": {},
   "outputs": [],
   "source": []
  },
  {
   "cell_type": "code",
   "execution_count": 631,
   "metadata": {},
   "outputs": [],
   "source": [
    "class MyMaxPool2D(nn.Module):\n",
    "    def __init__(self, kernel_size=(2, 2), stride=1):\n",
    "        super(MyMaxPool2D, self).__init__()\n",
    "        self.stride = stride\n",
    "        self.kernel_size = kernel_size\n",
    "        self.k_height = kernel_size[0]\n",
    "        self.k_width = kernel_size[1]\n",
    "\n",
    "    def forward(self, x):\n",
    "        in_batch = x.size(0)\n",
    "        in_channel = x.size(1)\n",
    "        in_height = x.size(2)\n",
    "        in_width = x.size(3)\n",
    "\n",
    "        out_height = int((in_height - self.k_height) / self.stride) + 1\n",
    "        out_width = int((in_width - self.k_width) / self.stride) + 1\n",
    "        out = torch.zeros((in_batch, in_channel, out_height, out_width))\n",
    "\n",
    "        for a in range(in_batch):\n",
    "            for k in range(in_channel):\n",
    "                for i in range(out_height):\n",
    "                    for j in range(out_width):\n",
    "                        start_i = i * self.stride\n",
    "                        start_j = j * self.stride\n",
    "                        end_i = start_i + self.k_height\n",
    "                        end_j = start_j + self.k_width\n",
    "                        out[a, k, i, j] = torch.max(x[a, k, start_i: end_i, start_j: end_j])\n",
    "        return out"
   ]
  },
  {
   "cell_type": "code",
   "execution_count": 632,
   "metadata": {},
   "outputs": [
    {
     "data": {
      "text/plain": [
       "tensor([[[[ 1.2707,  1.5790,  1.5790,  ...,  0.5181,  0.9222,  2.0995],\n",
       "          [ 1.2707,  1.0916,  1.4697,  ...,  1.2780,  1.2780,  0.8627],\n",
       "          [ 1.0916,  1.0916,  1.4697,  ...,  1.5892,  1.5892,  0.1679],\n",
       "          ...,\n",
       "          [ 1.4131,  0.7651,  1.0546,  ...,  1.9144,  1.9144,  1.8395],\n",
       "          [ 1.8042,  1.1719,  1.1719,  ...,  1.6560,  1.6560,  1.4520],\n",
       "          [ 1.8042,  1.2023,  1.4179,  ...,  1.6560,  1.6560,  1.4520]],\n",
       "\n",
       "         [[ 1.1295,  0.9663,  1.2357,  ...,  1.3574,  0.7458,  0.7458],\n",
       "          [ 0.9653,  0.3771,  1.2357,  ...,  1.3574,  1.0668,  1.0668],\n",
       "          [ 0.8747,  0.4287,  0.4287,  ...,  0.5766,  1.0668,  1.0668],\n",
       "          ...,\n",
       "          [ 1.7545,  1.7545,  2.2944,  ...,  1.6848,  0.1376,  0.2979],\n",
       "          [ 0.3901,  0.6520,  0.6520,  ...,  1.6848,  0.5557,  0.1997],\n",
       "          [-0.2641,  0.6330,  0.6330,  ...,  1.6261,  1.6261,  0.1410]],\n",
       "\n",
       "         [[ 2.2613,  2.2613,  1.3457,  ...,  1.9645, -0.0328,  0.2218],\n",
       "          [ 1.0093,  0.5625,  1.3457,  ...,  1.2884,  1.2884,  0.2218],\n",
       "          [ 0.6780,  0.5625,  0.8831,  ...,  1.5189,  1.5189,  0.2722],\n",
       "          ...,\n",
       "          [ 0.9797,  2.3320,  2.3320,  ...,  2.8021,  0.2663,  0.2327],\n",
       "          [ 0.9601,  0.9562,  0.7500,  ...,  2.8021,  0.7628,  0.7628],\n",
       "          [ 0.5700,  0.5700,  1.5865,  ...,  0.6657,  0.7628,  0.7628]]]])"
      ]
     },
     "execution_count": 632,
     "metadata": {},
     "output_type": "execute_result"
    }
   ],
   "source": [
    "my_max = MyMaxPool2D()\n",
    "my_out = my_max(input)\n",
    "my_out"
   ]
  },
  {
   "cell_type": "code",
   "execution_count": 633,
   "metadata": {},
   "outputs": [
    {
     "data": {
      "text/plain": [
       "True"
      ]
     },
     "execution_count": 633,
     "metadata": {},
     "output_type": "execute_result"
    }
   ],
   "source": [
    "torch.equal(my_out, torch_out)"
   ]
  },
  {
   "cell_type": "markdown",
   "metadata": {},
   "source": [
    "# 1.2"
   ]
  },
  {
   "cell_type": "code",
   "execution_count": 634,
   "metadata": {},
   "outputs": [
    {
     "data": {
      "text/plain": [
       "tensor([[[[ 3.8553e-01,  7.2522e-01,  6.4842e-01,  ..., -4.6114e-01,\n",
       "            2.0321e-01,  1.1393e+00],\n",
       "          [ 7.0331e-01,  3.4725e-01,  2.4955e-01,  ...,  2.8805e-01,\n",
       "            7.0669e-01,  3.9742e-01],\n",
       "          [ 1.9989e-01, -1.1299e-02,  4.4688e-01,  ...,  8.5229e-01,\n",
       "            5.2824e-01, -3.5392e-01],\n",
       "          ...,\n",
       "          [ 1.7127e-01, -2.2412e-01, -8.1199e-02,  ...,  6.8343e-01,\n",
       "            8.7836e-01,  5.2498e-01],\n",
       "          [ 9.6325e-02, -2.9518e-01, -2.8635e-01,  ...,  7.2480e-01,\n",
       "            7.1686e-01,  5.6095e-01],\n",
       "          [ 6.9592e-01, -4.3979e-02,  1.8748e-01,  ...,  6.4810e-01,\n",
       "            4.6873e-01,  2.1554e-01]],\n",
       "\n",
       "         [[ 8.5958e-01,  3.4204e-01, -2.7124e-01,  ..., -2.4483e-01,\n",
       "           -8.5541e-01, -1.4896e-01],\n",
       "          [ 3.9942e-01, -9.8838e-02,  1.2567e-01,  ...,  2.0742e-01,\n",
       "           -3.3680e-01,  8.5424e-02],\n",
       "          [ 1.9219e-01, -8.9979e-02, -9.6886e-02,  ..., -1.6300e-01,\n",
       "           -1.8692e-01,  1.8972e-01],\n",
       "          ...,\n",
       "          [ 3.6137e-01,  1.3052e-01,  5.6083e-02,  ...,  5.4860e-01,\n",
       "           -2.9931e-01, -2.0993e-01],\n",
       "          [-3.2865e-01,  4.3854e-02,  7.4886e-02,  ...,  3.4937e-01,\n",
       "            9.8350e-02,  1.0210e-02],\n",
       "          [-5.4038e-01, -2.1978e-01,  3.7033e-01,  ...,  8.9088e-04,\n",
       "            3.6581e-01, -2.1497e-01]],\n",
       "\n",
       "         [[ 3.3185e-01, -1.2093e-01, -2.3340e-02,  ..., -2.0486e-02,\n",
       "           -6.3133e-01, -4.9596e-01],\n",
       "          [ 4.8128e-02, -5.4387e-01, -1.7931e-01,  ...,  5.9498e-02,\n",
       "           -3.0982e-01, -6.9151e-01],\n",
       "          [-3.4250e-02,  2.3824e-01,  1.0475e-01,  ...,  3.5865e-01,\n",
       "            6.1793e-01, -5.1447e-01],\n",
       "          ...,\n",
       "          [ 4.2933e-01,  4.8673e-01,  2.4235e-01,  ...,  6.5451e-01,\n",
       "           -4.6053e-01, -6.0629e-01],\n",
       "          [ 1.7793e-01, -4.8804e-01, -2.7782e-01,  ...,  4.7280e-01,\n",
       "           -2.9808e-01, -2.9002e-01],\n",
       "          [-2.3040e-01, -5.4207e-01,  2.6843e-01,  ..., -1.2169e-01,\n",
       "           -8.3935e-02,  3.2232e-01]]]])"
      ]
     },
     "execution_count": 634,
     "metadata": {},
     "output_type": "execute_result"
    }
   ],
   "source": [
    "averagepool = torch.nn.AvgPool2d(kernel_size=2, stride=1, padding=0, ceil_mode=False, count_include_pad=True, divisor_override=None)\n",
    "torch_out = averagepool(input)\n",
    "torch_out"
   ]
  },
  {
   "cell_type": "code",
   "execution_count": 618,
   "metadata": {},
   "outputs": [
    {
     "name": "stderr",
     "output_type": "stream",
     "text": [
      "Clipping input data to the valid range for imshow with RGB data ([0..1] for floats or [0..255] for integers).\n"
     ]
    },
    {
     "data": {
      "image/png": "[encoded data removed]",
      "text/plain": [
       "<Figure size 432x288 with 1 Axes>"
      ]
     },
     "metadata": {
      "needs_background": "light"
     },
     "output_type": "display_data"
    }
   ],
   "source": [
    "img=torch_out[0]\n",
    "img=img.numpy()\n",
    "img = np.transpose(img, (1, 2, 0))\n",
    "plt.imshow(img)\n",
    "plt.show()"
   ]
  },
  {
   "cell_type": "code",
   "execution_count": 635,
   "metadata": {},
   "outputs": [],
   "source": [
    "class MyAveragePool2D(nn.Module):\n",
    "    def __init__(self, kernel_size=(2, 2), stride=1):\n",
    "        super(MyAveragePool2D, self).__init__()\n",
    "        self.stride = stride\n",
    "        self.kernel_size = kernel_size\n",
    "        self.k_height = kernel_size[0]\n",
    "        self.k_width = kernel_size[1]\n",
    "\n",
    "    def forward(self, x):\n",
    "        in_batch = x.size(0)\n",
    "        in_channel = x.size(1)\n",
    "        in_height = x.size(2)\n",
    "        in_width = x.size(3)\n",
    "\n",
    "        out_height = int((in_height - self.k_height) / self.stride) + 1\n",
    "        out_width = int((in_width - self.k_width) / self.stride) + 1\n",
    "        out = torch.zeros((in_batch, in_channel, out_height, out_width))\n",
    "\n",
    "        for a in range(in_batch):\n",
    "            for k in range(in_channel):\n",
    "                for i in range(out_height):\n",
    "                    for j in range(out_width):\n",
    "                        start_i = i * self.stride\n",
    "                        start_j = j * self.stride\n",
    "                        end_i = start_i + self.k_height\n",
    "                        end_j = start_j + self.k_width\n",
    "                        out[a, k, i, j] = x[a, k, start_i: end_i, start_j: end_j].mean()\n",
    "        return out"
   ]
  },
  {
   "cell_type": "code",
   "execution_count": 636,
   "metadata": {},
   "outputs": [
    {
     "data": {
      "text/plain": [
       "tensor([[[[ 3.8553e-01,  7.2522e-01,  6.4842e-01,  ..., -4.6114e-01,\n",
       "            2.0321e-01,  1.1393e+00],\n",
       "          [ 7.0331e-01,  3.4725e-01,  2.4955e-01,  ...,  2.8805e-01,\n",
       "            7.0669e-01,  3.9742e-01],\n",
       "          [ 1.9989e-01, -1.1299e-02,  4.4688e-01,  ...,  8.5229e-01,\n",
       "            5.2824e-01, -3.5392e-01],\n",
       "          ...,\n",
       "          [ 1.7127e-01, -2.2412e-01, -8.1199e-02,  ...,  6.8343e-01,\n",
       "            8.7836e-01,  5.2498e-01],\n",
       "          [ 9.6325e-02, -2.9518e-01, -2.8635e-01,  ...,  7.2480e-01,\n",
       "            7.1686e-01,  5.6095e-01],\n",
       "          [ 6.9592e-01, -4.3979e-02,  1.8748e-01,  ...,  6.4810e-01,\n",
       "            4.6873e-01,  2.1554e-01]],\n",
       "\n",
       "         [[ 8.5958e-01,  3.4204e-01, -2.7124e-01,  ..., -2.4483e-01,\n",
       "           -8.5541e-01, -1.4896e-01],\n",
       "          [ 3.9942e-01, -9.8838e-02,  1.2567e-01,  ...,  2.0742e-01,\n",
       "           -3.3680e-01,  8.5424e-02],\n",
       "          [ 1.9219e-01, -8.9979e-02, -9.6886e-02,  ..., -1.6300e-01,\n",
       "           -1.8692e-01,  1.8972e-01],\n",
       "          ...,\n",
       "          [ 3.6137e-01,  1.3052e-01,  5.6083e-02,  ...,  5.4860e-01,\n",
       "           -2.9931e-01, -2.0993e-01],\n",
       "          [-3.2865e-01,  4.3854e-02,  7.4886e-02,  ...,  3.4937e-01,\n",
       "            9.8350e-02,  1.0210e-02],\n",
       "          [-5.4038e-01, -2.1978e-01,  3.7033e-01,  ...,  8.9090e-04,\n",
       "            3.6581e-01, -2.1497e-01]],\n",
       "\n",
       "         [[ 3.3185e-01, -1.2093e-01, -2.3340e-02,  ..., -2.0486e-02,\n",
       "           -6.3133e-01, -4.9596e-01],\n",
       "          [ 4.8128e-02, -5.4387e-01, -1.7931e-01,  ...,  5.9498e-02,\n",
       "           -3.0982e-01, -6.9151e-01],\n",
       "          [-3.4250e-02,  2.3824e-01,  1.0475e-01,  ...,  3.5865e-01,\n",
       "            6.1793e-01, -5.1447e-01],\n",
       "          ...,\n",
       "          [ 4.2933e-01,  4.8673e-01,  2.4235e-01,  ...,  6.5451e-01,\n",
       "           -4.6053e-01, -6.0629e-01],\n",
       "          [ 1.7793e-01, -4.8804e-01, -2.7782e-01,  ...,  4.7280e-01,\n",
       "           -2.9808e-01, -2.9002e-01],\n",
       "          [-2.3040e-01, -5.4207e-01,  2.6843e-01,  ..., -1.2169e-01,\n",
       "           -8.3935e-02,  3.2232e-01]]]])"
      ]
     },
     "execution_count": 636,
     "metadata": {},
     "output_type": "execute_result"
    }
   ],
   "source": [
    "my_average = MyAveragePool2D()\n",
    "my_out = my_average(input)\n",
    "my_out"
   ]
  },
  {
   "cell_type": "code",
   "execution_count": 637,
   "metadata": {},
   "outputs": [
    {
     "name": "stdout",
     "output_type": "stream",
     "text": [
      "tensor(True)\n"
     ]
    }
   ],
   "source": [
    "print(torch.all(torch.abs(my_out - torch_out) <= 1e-6))"
   ]
  },
  {
   "cell_type": "markdown",
   "metadata": {},
   "source": [
    "# 1.3"
   ]
  },
  {
   "cell_type": "code",
   "execution_count": 638,
   "metadata": {},
   "outputs": [
    {
     "data": {
      "text/plain": [
       "tensor([[[[-1.0163e+00,  1.6801e-01, -3.1066e-01,  ..., -5.9927e-01,\n",
       "           -1.4857e-01, -1.1524e+00],\n",
       "          [-1.2733e-01, -2.8817e-01, -4.0548e-01,  ...,  2.9381e-01,\n",
       "            4.1809e-01, -5.8408e-01],\n",
       "          [ 3.0338e-01,  5.3907e-01,  1.5032e-01,  ..., -1.7942e-01,\n",
       "            8.8659e-01, -5.8169e-01],\n",
       "          ...,\n",
       "          [ 4.6104e-02,  9.6062e-01, -1.1996e+00,  ...,  6.5962e-01,\n",
       "           -3.3411e-01, -5.8174e-01],\n",
       "          [-5.4937e-01, -1.3779e+00,  5.2202e-02,  ..., -5.5089e-01,\n",
       "           -1.3403e+00, -4.1981e-01],\n",
       "          [-5.1487e-01,  3.1501e-01, -2.8340e-01,  ...,  4.0101e-01,\n",
       "            9.8402e-02, -1.9714e-01]],\n",
       "\n",
       "         [[ 4.1305e-01, -4.2488e-02,  7.9300e-01,  ...,  7.8017e-01,\n",
       "            2.9427e-01, -1.9846e-01],\n",
       "          [ 1.5128e-01,  6.2750e-01,  1.6871e-01,  ...,  6.0492e-01,\n",
       "            4.0690e-01,  3.7922e-01],\n",
       "          [ 7.0594e-01, -5.0988e-01,  1.1205e+00,  ..., -7.7443e-01,\n",
       "            1.0431e+00, -2.1504e-01],\n",
       "          ...,\n",
       "          [ 6.7823e-01,  4.0110e-01, -4.4211e-01,  ...,  3.4385e-01,\n",
       "           -8.9453e-01,  1.8313e-01],\n",
       "          [-1.5564e+00,  1.0992e+00,  1.9756e-01,  ..., -3.7645e-01,\n",
       "            9.2032e-02,  9.8327e-01],\n",
       "          [ 1.4460e+00,  1.0870e-01,  6.4183e-01,  ...,  3.3437e-01,\n",
       "            1.4479e+00,  2.8441e-01]],\n",
       "\n",
       "         [[-1.5609e-01, -5.3684e-01,  5.5030e-01,  ...,  2.4961e-02,\n",
       "            1.0867e-01, -2.0424e-01],\n",
       "          [-6.1328e-01,  1.4487e-01,  6.1646e-02,  ..., -2.3572e-01,\n",
       "            3.0823e-01, -3.0143e-01],\n",
       "          [-3.4237e-01,  5.9603e-01,  3.2470e-01,  ...,  1.0104e+00,\n",
       "            5.0756e-01, -2.4061e-01],\n",
       "          ...,\n",
       "          [-9.1915e-02, -3.6592e-01, -3.3926e-01,  ..., -1.8015e-01,\n",
       "           -2.2761e-01, -4.9299e-01],\n",
       "          [-1.0736e+00,  9.7809e-01, -1.0731e+00,  ..., -1.9567e-02,\n",
       "           -6.8849e-01,  6.0934e-04],\n",
       "          [-3.8211e-01,  3.8938e-01,  3.3582e-01,  ...,  4.9629e-02,\n",
       "            4.0658e-01, -7.4637e-01]],\n",
       "\n",
       "         [[-8.4084e-01,  1.2166e-01, -4.7156e-01,  ...,  1.4591e-01,\n",
       "            1.3172e+00,  1.5933e-01],\n",
       "          [ 3.3936e-01,  2.9382e-01,  4.2286e-02,  ...,  2.1653e+00,\n",
       "           -2.8699e-01, -9.7062e-01],\n",
       "          [ 1.4670e-01,  4.1982e-01,  3.3792e-01,  ...,  7.3638e-01,\n",
       "            1.6838e+00, -4.2456e-01],\n",
       "          ...,\n",
       "          [-4.6096e-01,  6.0524e-01, -7.5559e-01,  ...,  1.4297e-01,\n",
       "           -5.4546e-03, -6.1082e-01],\n",
       "          [-6.9884e-02, -1.9048e-01,  1.3240e+00,  ...,  2.1680e-01,\n",
       "           -1.8300e-01, -4.7041e-01],\n",
       "          [-5.6717e-01,  5.0775e-01,  6.4961e-01,  ...,  2.8208e-01,\n",
       "            1.0282e+00,  3.4758e-01]],\n",
       "\n",
       "         [[ 6.0305e-02,  2.1664e-01,  5.3456e-01,  ..., -1.1995e+00,\n",
       "            6.1310e-02, -3.9026e-01],\n",
       "          [-9.2658e-02,  6.2648e-01, -9.0887e-01,  ..., -2.8093e-02,\n",
       "            2.6112e-01, -1.5965e-01],\n",
       "          [ 8.2436e-01, -9.9612e-01, -1.7619e-01,  ..., -1.2296e+00,\n",
       "            3.9521e-01, -7.4173e-01],\n",
       "          ...,\n",
       "          [-1.5927e-01, -1.9708e-01,  7.3098e-02,  ..., -3.2335e-01,\n",
       "           -5.4366e-02,  1.8948e-01],\n",
       "          [-2.7259e-01, -4.6772e-01, -2.4887e-01,  ..., -2.1404e-01,\n",
       "           -2.3847e-02,  2.3376e-01],\n",
       "          [ 6.0907e-02, -1.1728e+00,  7.0587e-01,  ..., -5.7857e-01,\n",
       "           -9.7641e-01,  3.0111e-01]],\n",
       "\n",
       "         [[-7.5561e-01,  3.4058e-01,  9.5466e-01,  ...,  2.5936e-01,\n",
       "            7.3832e-01, -5.4929e-01],\n",
       "          [-1.6101e-02,  3.6127e-01, -4.4065e-01,  ...,  3.3951e-01,\n",
       "            1.8659e-01,  1.9071e-01],\n",
       "          [ 1.0359e+00,  2.4649e-01,  6.3372e-01,  ..., -1.0389e+00,\n",
       "            1.0069e-01,  5.2363e-01],\n",
       "          ...,\n",
       "          [ 1.5174e-01,  2.0682e-01, -9.1831e-01,  ...,  1.2106e+00,\n",
       "           -6.9200e-02, -7.4609e-01],\n",
       "          [ 4.7209e-01, -4.5356e-01,  5.7544e-01,  ...,  1.4274e-01,\n",
       "            1.1177e-01,  7.4985e-01],\n",
       "          [ 6.8414e-01,  8.4658e-02,  5.8979e-01,  ...,  6.2764e-02,\n",
       "            7.2567e-01, -3.0771e-01]]]], grad_fn=<ThnnConv2DBackward>)"
      ]
     },
     "execution_count": 638,
     "metadata": {},
     "output_type": "execute_result"
    }
   ],
   "source": [
    "conv2d = torch.nn.Conv2d(in_channels=3, out_channels=6, kernel_size=3, stride=1, padding=0, dilation=1, groups=1, bias=True, padding_mode='zeros')\n",
    "torch_out = conv2d(input)\n",
    "torch_out"
   ]
  },
  {
   "cell_type": "code",
   "execution_count": null,
   "metadata": {},
   "outputs": [],
   "source": []
  },
  {
   "cell_type": "code",
   "execution_count": 639,
   "metadata": {},
   "outputs": [
    {
     "data": {
      "text/plain": [
       "tensor([[[[ 0.1033, -0.0303, -0.1759],\n",
       "          [-0.0743, -0.0144,  0.1102],\n",
       "          [-0.0498, -0.0304, -0.0296]],\n",
       "\n",
       "         [[ 0.0281,  0.0663, -0.1334],\n",
       "          [ 0.1176, -0.1172, -0.0026],\n",
       "          [-0.1388, -0.0863, -0.0536]],\n",
       "\n",
       "         [[-0.1092,  0.0070, -0.1336],\n",
       "          [-0.1884,  0.1577,  0.1788],\n",
       "          [ 0.0518,  0.1915, -0.0568]]],\n",
       "\n",
       "\n",
       "        [[[-0.0146,  0.1414, -0.1313],\n",
       "          [ 0.1859, -0.0258,  0.1565],\n",
       "          [-0.0689,  0.0687, -0.1662]],\n",
       "\n",
       "         [[ 0.0683, -0.1915,  0.1116],\n",
       "          [ 0.0965,  0.0975,  0.1296],\n",
       "          [-0.1476,  0.1299,  0.1356]],\n",
       "\n",
       "         [[ 0.0922,  0.0325, -0.1715],\n",
       "          [-0.0867, -0.1160,  0.0403],\n",
       "          [-0.1323, -0.0567,  0.1804]]],\n",
       "\n",
       "\n",
       "        [[[-0.0550,  0.1177,  0.0280],\n",
       "          [-0.1909, -0.0075,  0.0429],\n",
       "          [-0.0354, -0.0430, -0.0495]],\n",
       "\n",
       "         [[ 0.0983, -0.1428,  0.0060],\n",
       "          [-0.1621,  0.0955, -0.1210],\n",
       "          [-0.1303, -0.0863,  0.1392]],\n",
       "\n",
       "         [[-0.0628,  0.0763, -0.1060],\n",
       "          [-0.1600,  0.0694,  0.0056],\n",
       "          [ 0.1314, -0.0192,  0.1083]]],\n",
       "\n",
       "\n",
       "        [[[ 0.0394, -0.0394,  0.0966],\n",
       "          [-0.1401,  0.0330,  0.1540],\n",
       "          [-0.1623,  0.0841, -0.1138]],\n",
       "\n",
       "         [[-0.0941,  0.1314, -0.0817],\n",
       "          [ 0.0333, -0.1506, -0.1683],\n",
       "          [-0.1685,  0.1576,  0.1296]],\n",
       "\n",
       "         [[ 0.1524, -0.1541, -0.0665],\n",
       "          [-0.1666,  0.1290,  0.1106],\n",
       "          [-0.1378, -0.0036,  0.1758]]],\n",
       "\n",
       "\n",
       "        [[[-0.1239,  0.1544, -0.0192],\n",
       "          [ 0.1898, -0.0476, -0.0286],\n",
       "          [-0.1156,  0.0687,  0.0870]],\n",
       "\n",
       "         [[ 0.1242, -0.0520,  0.0728],\n",
       "          [ 0.1427, -0.0516,  0.0788],\n",
       "          [ 0.1790, -0.1461, -0.0610]],\n",
       "\n",
       "         [[-0.0368, -0.1379,  0.1485],\n",
       "          [-0.0867,  0.0066, -0.0125],\n",
       "          [-0.0486,  0.0811, -0.0856]]],\n",
       "\n",
       "\n",
       "        [[[ 0.1310, -0.1051, -0.1368],\n",
       "          [ 0.0006, -0.1593,  0.0944],\n",
       "          [ 0.1025,  0.1823, -0.0016]],\n",
       "\n",
       "         [[ 0.0130, -0.1423, -0.1084],\n",
       "          [-0.0053, -0.0753,  0.0744],\n",
       "          [-0.0756,  0.1766,  0.0580]],\n",
       "\n",
       "         [[ 0.1445, -0.0472,  0.0539],\n",
       "          [ 0.0415,  0.1571,  0.0645],\n",
       "          [ 0.0120,  0.1344,  0.0538]]]])"
      ]
     },
     "execution_count": 639,
     "metadata": {},
     "output_type": "execute_result"
    }
   ],
   "source": [
    "kernels_data = conv2d.weight.data\n",
    "kernels_data"
   ]
  },
  {
   "cell_type": "code",
   "execution_count": 640,
   "metadata": {},
   "outputs": [
    {
     "data": {
      "text/plain": [
       "torch.Size([6, 3, 3, 3])"
      ]
     },
     "execution_count": 640,
     "metadata": {},
     "output_type": "execute_result"
    }
   ],
   "source": [
    "kernels_data.size()"
   ]
  },
  {
   "cell_type": "code",
   "execution_count": 641,
   "metadata": {},
   "outputs": [
    {
     "data": {
      "text/plain": [
       "tensor([-0.1717,  0.1562, -0.0599,  0.1330, -0.1760,  0.1454])"
      ]
     },
     "execution_count": 641,
     "metadata": {},
     "output_type": "execute_result"
    }
   ],
   "source": [
    "bias = conv2d.bias.data\n",
    "bias"
   ]
  },
  {
   "cell_type": "code",
   "execution_count": 642,
   "metadata": {},
   "outputs": [],
   "source": [
    "class My_conv2d(nn.Module):\n",
    "    def __init__(self, in_channels=3, out_channels=6, kernel_size=(3,3), stride=1, bias=bias):\n",
    "        super(My_conv2d, self).__init__()\n",
    "        self.stride = stride\n",
    "        self.bias = bias\n",
    "        self.kernel_size = kernel_size\n",
    "        self.k_height = kernel_size[0]\n",
    "        self.k_width = kernel_size[1]\n",
    "        self.in_channels = in_channels\n",
    "        self.out_channels = out_channels\n",
    "\n",
    "    def forward(self, x):\n",
    "        in_batch = x.size(0)\n",
    "        in_channel = x.size(1)\n",
    "        in_height = x.size(2)\n",
    "        in_width = x.size(3)\n",
    "\n",
    "        out_height = int((in_height - self.k_height) / self.stride) + 1\n",
    "        out_width = int((in_width - self.k_width) / self.stride) + 1\n",
    "        out = torch.zeros((in_batch, self.out_channels, out_height, out_width))\n",
    "\n",
    "        for a in range(in_batch):\n",
    "            for ker in range(self.out_channels):\n",
    "                for k in range(in_channel):\n",
    "                    for i in range(out_height):\n",
    "                        for j in range(out_width):\n",
    "                            start_i = i * self.stride\n",
    "                            start_j = j * self.stride\n",
    "                            end_i = start_i + self.k_height\n",
    "                            end_j = start_j + self.k_width\n",
    "                            out[a, ker, i, j] += (x[a, k, start_i: end_i, start_j: end_j]*kernels_data[ker][k]).sum()\n",
    "        for i in range(self.out_channels):\n",
    "            out[0][i] = out[0][i]+bias[i]\n",
    "        return out"
   ]
  },
  {
   "cell_type": "code",
   "execution_count": 643,
   "metadata": {},
   "outputs": [
    {
     "data": {
      "text/plain": [
       "tensor([[[[-1.0163e+00,  1.6801e-01, -3.1066e-01,  ..., -5.9926e-01,\n",
       "           -1.4857e-01, -1.1524e+00],\n",
       "          [-1.2733e-01, -2.8817e-01, -4.0548e-01,  ...,  2.9381e-01,\n",
       "            4.1809e-01, -5.8408e-01],\n",
       "          [ 3.0338e-01,  5.3907e-01,  1.5032e-01,  ..., -1.7942e-01,\n",
       "            8.8659e-01, -5.8169e-01],\n",
       "          ...,\n",
       "          [ 4.6104e-02,  9.6062e-01, -1.1996e+00,  ...,  6.5962e-01,\n",
       "           -3.3411e-01, -5.8174e-01],\n",
       "          [-5.4937e-01, -1.3779e+00,  5.2202e-02,  ..., -5.5089e-01,\n",
       "           -1.3403e+00, -4.1981e-01],\n",
       "          [-5.1487e-01,  3.1501e-01, -2.8340e-01,  ...,  4.0101e-01,\n",
       "            9.8402e-02, -1.9714e-01]],\n",
       "\n",
       "         [[ 4.1305e-01, -4.2488e-02,  7.9300e-01,  ...,  7.8017e-01,\n",
       "            2.9427e-01, -1.9846e-01],\n",
       "          [ 1.5128e-01,  6.2750e-01,  1.6871e-01,  ...,  6.0492e-01,\n",
       "            4.0690e-01,  3.7922e-01],\n",
       "          [ 7.0594e-01, -5.0988e-01,  1.1205e+00,  ..., -7.7443e-01,\n",
       "            1.0431e+00, -2.1504e-01],\n",
       "          ...,\n",
       "          [ 6.7823e-01,  4.0110e-01, -4.4211e-01,  ...,  3.4385e-01,\n",
       "           -8.9453e-01,  1.8313e-01],\n",
       "          [-1.5564e+00,  1.0992e+00,  1.9756e-01,  ..., -3.7645e-01,\n",
       "            9.2031e-02,  9.8327e-01],\n",
       "          [ 1.4460e+00,  1.0870e-01,  6.4183e-01,  ...,  3.3437e-01,\n",
       "            1.4479e+00,  2.8441e-01]],\n",
       "\n",
       "         [[-1.5609e-01, -5.3684e-01,  5.5030e-01,  ...,  2.4961e-02,\n",
       "            1.0867e-01, -2.0424e-01],\n",
       "          [-6.1328e-01,  1.4487e-01,  6.1646e-02,  ..., -2.3572e-01,\n",
       "            3.0823e-01, -3.0143e-01],\n",
       "          [-3.4237e-01,  5.9603e-01,  3.2470e-01,  ...,  1.0104e+00,\n",
       "            5.0756e-01, -2.4061e-01],\n",
       "          ...,\n",
       "          [-9.1915e-02, -3.6592e-01, -3.3926e-01,  ..., -1.8015e-01,\n",
       "           -2.2761e-01, -4.9299e-01],\n",
       "          [-1.0736e+00,  9.7809e-01, -1.0731e+00,  ..., -1.9567e-02,\n",
       "           -6.8849e-01,  6.0939e-04],\n",
       "          [-3.8211e-01,  3.8938e-01,  3.3582e-01,  ...,  4.9629e-02,\n",
       "            4.0658e-01, -7.4637e-01]],\n",
       "\n",
       "         [[-8.4084e-01,  1.2166e-01, -4.7156e-01,  ...,  1.4591e-01,\n",
       "            1.3172e+00,  1.5933e-01],\n",
       "          [ 3.3936e-01,  2.9382e-01,  4.2286e-02,  ...,  2.1653e+00,\n",
       "           -2.8699e-01, -9.7062e-01],\n",
       "          [ 1.4670e-01,  4.1982e-01,  3.3792e-01,  ...,  7.3638e-01,\n",
       "            1.6838e+00, -4.2456e-01],\n",
       "          ...,\n",
       "          [-4.6096e-01,  6.0524e-01, -7.5559e-01,  ...,  1.4297e-01,\n",
       "           -5.4548e-03, -6.1082e-01],\n",
       "          [-6.9884e-02, -1.9048e-01,  1.3240e+00,  ...,  2.1680e-01,\n",
       "           -1.8300e-01, -4.7041e-01],\n",
       "          [-5.6717e-01,  5.0775e-01,  6.4961e-01,  ...,  2.8208e-01,\n",
       "            1.0282e+00,  3.4758e-01]],\n",
       "\n",
       "         [[ 6.0305e-02,  2.1664e-01,  5.3456e-01,  ..., -1.1995e+00,\n",
       "            6.1310e-02, -3.9026e-01],\n",
       "          [-9.2658e-02,  6.2648e-01, -9.0887e-01,  ..., -2.8093e-02,\n",
       "            2.6112e-01, -1.5965e-01],\n",
       "          [ 8.2436e-01, -9.9612e-01, -1.7619e-01,  ..., -1.2296e+00,\n",
       "            3.9521e-01, -7.4173e-01],\n",
       "          ...,\n",
       "          [-1.5927e-01, -1.9708e-01,  7.3098e-02,  ..., -3.2335e-01,\n",
       "           -5.4366e-02,  1.8948e-01],\n",
       "          [-2.7259e-01, -4.6772e-01, -2.4887e-01,  ..., -2.1404e-01,\n",
       "           -2.3847e-02,  2.3376e-01],\n",
       "          [ 6.0907e-02, -1.1728e+00,  7.0587e-01,  ..., -5.7857e-01,\n",
       "           -9.7641e-01,  3.0111e-01]],\n",
       "\n",
       "         [[-7.5561e-01,  3.4058e-01,  9.5466e-01,  ...,  2.5936e-01,\n",
       "            7.3832e-01, -5.4929e-01],\n",
       "          [-1.6101e-02,  3.6127e-01, -4.4065e-01,  ...,  3.3951e-01,\n",
       "            1.8659e-01,  1.9071e-01],\n",
       "          [ 1.0359e+00,  2.4649e-01,  6.3372e-01,  ..., -1.0389e+00,\n",
       "            1.0069e-01,  5.2363e-01],\n",
       "          ...,\n",
       "          [ 1.5174e-01,  2.0682e-01, -9.1831e-01,  ...,  1.2106e+00,\n",
       "           -6.9200e-02, -7.4609e-01],\n",
       "          [ 4.7209e-01, -4.5356e-01,  5.7544e-01,  ...,  1.4274e-01,\n",
       "            1.1177e-01,  7.4985e-01],\n",
       "          [ 6.8414e-01,  8.4658e-02,  5.8979e-01,  ...,  6.2764e-02,\n",
       "            7.2567e-01, -3.0771e-01]]]])"
      ]
     },
     "execution_count": 643,
     "metadata": {},
     "output_type": "execute_result"
    }
   ],
   "source": [
    "my_conv2d = My_conv2d()\n",
    "my_out = my_conv2d(input)\n",
    "my_out"
   ]
  },
  {
   "cell_type": "code",
   "execution_count": 644,
   "metadata": {},
   "outputs": [
    {
     "name": "stdout",
     "output_type": "stream",
     "text": [
      "tensor(True)\n"
     ]
    }
   ],
   "source": [
    "print(torch.all(torch.abs(my_out - torch_out) <= 1e-6))"
   ]
  },
  {
   "cell_type": "code",
   "execution_count": 475,
   "metadata": {},
   "outputs": [],
   "source": [
    "# Method 2\n",
    "\n",
    "# #  one channel and one kernel\n",
    "# def conv2d(X, K, stride=1):\n",
    "#     h,w = K.shape\n",
    "# #     Y = torch.zeros((X.shape[0] - h + 1),X.shape[1] - w + 1)\n",
    "#     Y = torch.zeros(int((X.shape[0] - h)/stride) + 1,int((X.shape[1] - w)/stride) + 1)\n",
    "#     for i in range(Y.shape[0]):\n",
    "#         for j in range(Y.shape[1]):\n",
    "# #             Y[i,j] = (X[i:i + h, j: j + w]*K).sum()\n",
    "#             Y[i,j] = (X[i*stride:i*stride + h, j*stride: j*stride + w]*K).sum()\n",
    "#     return Y   \n",
    "\n",
    "# #  multi channel and one kernel\n",
    "# def conv2d_mutil_in(X, K, stride=1):\n",
    "#     h,w = K.shape[1],K.shape[2]\n",
    "# #     value = torch.zeros(X[0].shape[0] - h + 1,X[0].shape[1] - w + 1)\n",
    "#     value = torch.zeros(int((X[0].shape[0] - h)/ stride) + 1,int((X[0].shape[1]) / stride) - w + 1)\n",
    "#     for x,k in zip(X,K):\n",
    "#         value = value + conv2d(x, k, stride)\n",
    "#     return value\n",
    "\n",
    "# #  multi channel and multi kernel\n",
    "# def conv2d_multi_in_out(X, K, stride=1):\n",
    "#     return torch.stack([conv2d_mutil_in(X, k, stride) for k in K])\n",
    "\n",
    "\n",
    "# # test multi channel and one kernel\n",
    "# X = torch.tensor([[[1,2,3],[4,5,6],[7,8,9]],\n",
    "#                   [[1,1,1],[1,1,1],[1,1,1]],\n",
    "#                   [[2,2,2],[2,2,2],[2,2,2]],\n",
    "#                  [[2,2,2],[2,2,2],[2,2,2]]])\n",
    "# print(X.shape)\n",
    "# K = torch.tensor([[[1]],[[2]],[[3]]])\n",
    "# print(K.shape)\n",
    "# print(conv2d_mutil_in(X, K, 2).shape)\n",
    "\n",
    "# # test multi channel and multi kernel\n",
    "# K = torch.tensor([[[[1]],[[2]],[[3]]],\n",
    "#                   [[[4]],[[1]],[[1]]],\n",
    "#                   [[[5]],[[3]],[[3]]],\n",
    "#                  [[[5]],[[3]],[[3]]],\n",
    "#                  [[[5]],[[3]],[[3]]]])\n",
    "# print(K.shape)\n",
    "\n",
    "# print(conv2d_multi_in_out(X, K, 2).shape)"
   ]
  },
  {
   "cell_type": "markdown",
   "metadata": {},
   "source": [
    "# 1.4"
   ]
  },
  {
   "cell_type": "code",
   "execution_count": 516,
   "metadata": {
    "scrolled": false
   },
   "outputs": [
    {
     "data": {
      "text/plain": [
       "tensor([[[[-0.4234,  0.5781, -0.4855, -0.0334, -0.8355,  0.7308, -0.5032,\n",
       "            0.4724,  0.3411, -0.4057,  1.2631,  0.1953],\n",
       "          [ 0.4396, -0.0624, -0.1101, -0.0315,  1.3061,  0.0405,  1.0249,\n",
       "            0.1730, -0.2144, -0.1409,  1.1393, -0.2035],\n",
       "          [-0.6082, -0.5735, -0.3122, -0.0903,  0.6911,  0.3498,  0.4725,\n",
       "           -1.2455,  0.8956, -0.3909,  0.1664,  1.0153],\n",
       "          [ 1.5272, -0.2243,  0.1931, -0.0614,  0.6014, -0.6781, -0.7350,\n",
       "            0.2121,  0.2091, -0.0565,  0.3062,  0.2745],\n",
       "          [ 0.7642,  0.4490, -0.8946, -0.2855,  0.2761, -0.9191,  0.2754,\n",
       "           -0.1572,  0.2909, -1.0251,  0.1766,  0.6049],\n",
       "          [-0.9919,  0.2351,  0.0942,  0.3471, -0.7130,  0.4018,  0.0895,\n",
       "            1.1719, -0.3506,  0.1134,  0.3155, -0.2602],\n",
       "          [-0.0104,  0.5061, -0.8908,  1.0976,  0.1444,  0.1199,  0.0257,\n",
       "           -0.2553,  1.0108,  0.4887, -0.1603,  0.8280],\n",
       "          [ 0.9201, -0.8402,  0.5260,  0.4374, -0.9767, -0.2094, -0.2467,\n",
       "           -0.1311,  0.1888, -0.4859,  0.6703, -0.0737],\n",
       "          [ 0.7308,  0.8291,  0.6515, -1.2783,  0.2818, -0.6055,  0.1880,\n",
       "           -0.5040,  0.1904, -0.5008, -0.1478, -0.5032],\n",
       "          [-0.2037, -0.0745,  0.4014,  0.8856,  0.4635, -0.2039, -0.2375,\n",
       "            0.0706,  0.0355, -0.2904,  0.2421,  0.2923],\n",
       "          [ 0.2266, -0.6973, -0.0640,  0.2247, -0.3998,  0.2412, -1.4172,\n",
       "           -0.3261, -0.5864,  0.5622, -0.0120, -0.0824],\n",
       "          [-0.5902,  0.9673, -0.1497, -0.0091,  0.3093,  0.0169, -0.2377,\n",
       "           -0.4621,  0.0093,  0.4604, -0.3459,  0.5285]],\n",
       "\n",
       "         [[ 1.1240,  0.3493,  1.6865, -0.2816,  0.6911,  0.2108, -0.4617,\n",
       "           -0.2095,  0.3091,  0.8580, -0.7220, -0.2943],\n",
       "          [-0.4705,  0.8935, -0.4816,  0.2079, -0.3325, -0.2525, -0.5431,\n",
       "           -0.1712,  0.2979, -0.7382, -0.2073, -0.8946],\n",
       "          [ 0.7495,  0.6664,  0.4649, -0.6164, -0.0132, -1.5767,  0.4152,\n",
       "            0.8573, -0.3618, -0.3862, -0.3123,  0.0706],\n",
       "          [ 0.4932,  0.7021,  0.7014,  0.2545,  0.0538, -0.2678,  0.6347,\n",
       "           -0.4400,  0.0359, -0.2998,  0.9279, -0.5848],\n",
       "          [-1.4253,  0.0810,  0.1185,  0.6985, -0.2418,  0.5890, -0.7562,\n",
       "            0.7407, -0.3114, -0.1915, -1.1223, -0.3815],\n",
       "          [ 0.2645,  0.7686,  0.5396,  1.2577,  0.6844,  0.3481,  0.7282,\n",
       "            0.0363, -0.1123, -0.2419, -0.0799,  0.5573],\n",
       "          [-0.1615,  0.2905, -0.0399, -0.6275,  0.1241,  0.0333,  0.3746,\n",
       "           -0.5482, -0.2863, -0.2606,  1.0903, -0.3243],\n",
       "          [-0.2424, -0.9000, -0.5703, -0.4285,  0.4205, -0.3791,  0.7072,\n",
       "            0.2432, -0.4889,  0.1847, -0.2145, -0.5229],\n",
       "          [-1.2196,  0.2757,  0.2180,  1.4614, -0.0781,  1.4173,  0.6470,\n",
       "           -0.2416,  0.1344,  0.1777, -0.2385,  0.3003],\n",
       "          [ 0.5712, -0.7656, -1.0846, -0.3520,  0.5054,  0.2606, -0.0329,\n",
       "            0.0040,  0.0550,  1.0117,  0.2110,  1.1020],\n",
       "          [ 0.0602,  0.2569, -0.5514, -0.3632,  0.1674, -0.4739,  0.4923,\n",
       "           -0.6915,  0.0747,  0.0058,  0.1853, -0.1098],\n",
       "          [-0.4656, -0.3134,  0.7640,  0.5264,  0.4196,  0.5748,  0.2452,\n",
       "            1.1747, -0.7758, -0.4708,  0.4551,  0.5758]],\n",
       "\n",
       "         [[-0.5005,  0.6887,  0.0054, -0.3729, -0.0319,  0.2463,  1.5708,\n",
       "            1.4963, -0.4945, -0.3520, -0.3360,  0.5177],\n",
       "          [ 1.1206, -0.1352,  0.6319, -0.5979, -0.2131, -0.0496, -0.7946,\n",
       "            0.6103, -0.5185, -0.1853, -0.0071, -0.3176],\n",
       "          [-0.6845,  0.3388,  0.7148,  0.8816, -0.1716,  0.5065, -0.4911,\n",
       "           -0.9659, -0.2802, -0.4302,  0.1286,  0.0123],\n",
       "          [-0.4615,  0.6433, -0.6526, -0.1061, -1.0520,  0.4588,  0.1898,\n",
       "            0.2944,  0.3897,  0.1331, -0.7367, -0.3120],\n",
       "          [ 0.3234,  0.1573,  0.1317, -0.2722, -0.0101, -0.7059,  0.7595,\n",
       "           -0.1988, -0.3420,  1.1965,  1.0242,  0.0856],\n",
       "          [-0.6948, -0.1164,  0.0950,  0.2918,  1.3533,  0.6166, -0.3086,\n",
       "           -0.6492, -0.2104, -1.1742, -0.1633,  0.4538],\n",
       "          [-0.2400, -0.0445,  0.1505,  0.8793,  0.5017,  0.6960,  0.4736,\n",
       "            0.3688, -1.1461,  0.1073, -0.4617, -0.3426],\n",
       "          [ 1.0189,  0.4458, -0.1444,  0.5705, -0.0145,  0.5122,  0.2361,\n",
       "            0.5256,  0.3339,  0.3353,  0.4759,  1.2422],\n",
       "          [-0.1845, -0.6055, -0.3982, -0.3482,  0.0434,  0.7338,  0.8344,\n",
       "           -0.3416, -0.3219, -0.6419,  0.1093,  0.2278],\n",
       "          [-0.2619, -0.3450, -0.4830,  0.5913,  0.6087, -0.7308,  0.8509,\n",
       "           -0.1738, -0.6269, -0.9219,  0.1350, -0.0729],\n",
       "          [ 0.8972, -0.0650,  0.1403, -0.0650,  0.4337,  0.4913,  0.0929,\n",
       "            0.5283, -0.0861,  0.2932, -0.1050,  0.0424],\n",
       "          [ 0.0090, -0.1139, -0.3211, -1.4752, -0.2102,  0.2265, -0.0667,\n",
       "            0.6509,  0.5517,  0.8049, -0.0715, -0.3105]],\n",
       "\n",
       "         [[-1.0658, -0.8766, -0.4505, -0.1395, -0.1874, -0.6698,  0.7287,\n",
       "            0.0673, -0.2494, -0.7717, -0.0904, -0.4795],\n",
       "          [ 0.1483, -0.8529,  0.0765,  0.1602, -0.2387,  0.0688, -0.3516,\n",
       "            0.1052, -0.8875,  0.0331, -0.3069,  0.4722],\n",
       "          [-1.1315,  0.6293, -1.2298,  0.3239,  0.0311,  0.5042, -0.8027,\n",
       "           -0.7295,  0.2036, -0.1580, -0.1452, -0.8177],\n",
       "          [ 0.0996, -0.5844,  0.3350, -0.1748, -0.5241, -0.7384, -0.0132,\n",
       "           -0.0036,  1.1778, -0.1233, -0.1900,  0.3777],\n",
       "          [ 0.8523, -0.8441,  0.0788, -0.6911,  0.0180,  0.2272,  0.7562,\n",
       "           -0.6489,  0.6544, -0.5299,  1.2144,  0.5834],\n",
       "          [-0.1959,  0.1616, -0.7246,  0.5833, -0.4081, -0.5316, -0.5327,\n",
       "            0.0769, -1.1070, -0.1366, -0.9678, -0.0113],\n",
       "          [-0.2248,  0.7017, -0.5306,  0.4560, -0.8711, -0.0606, -0.5868,\n",
       "            0.3453,  0.7356, -0.4626, -1.0025, -0.6115],\n",
       "          [ 0.6082, -0.3231,  0.6651, -0.6980, -0.4093,  1.2254,  0.4238,\n",
       "            1.0152,  0.5519,  0.0129,  0.1538, -0.0184],\n",
       "          [ 0.6619, -0.9723, -0.6114, -0.9789, -0.5464, -0.6456,  0.0413,\n",
       "            0.0093, -0.3969, -0.3082,  0.0648, -0.2950],\n",
       "          [-0.5023,  1.4935,  0.0206,  0.6299, -0.2864,  0.1805,  0.2320,\n",
       "           -0.4983,  0.3395, -0.9563, -0.3034, -0.0698],\n",
       "          [-0.0852, -0.2194,  0.5650,  0.3843,  0.6633,  0.2553,  0.3057,\n",
       "           -0.4979,  0.2937,  0.3462, -0.3058, -0.6285],\n",
       "          [-0.8405,  0.1128, -0.0844, -1.4847, -0.0645, -1.5572, -0.5419,\n",
       "           -0.3134,  0.8103, -0.3720,  0.4995, -0.3539]],\n",
       "\n",
       "         [[-0.7071,  0.6162,  0.2445, -0.1582,  0.1403,  0.1029, -0.2304,\n",
       "           -0.5234, -0.1063, -1.1568,  0.3654,  0.0788],\n",
       "          [-0.4238, -0.5855,  0.3837,  0.1428,  0.2622,  0.1148,  0.5944,\n",
       "            0.8219,  0.8814,  0.4656,  0.1731, -0.0817],\n",
       "          [-0.0263,  0.0058,  0.8716, -0.6508, -0.4709, -0.6892,  0.1078,\n",
       "           -0.3605,  0.8733, -0.4847, -0.6717,  0.4448],\n",
       "          [ 0.0561,  0.2057, -0.6535, -0.5175, -0.3185,  0.3987,  0.0653,\n",
       "           -0.0025, -0.9364,  0.3799, -0.0338, -0.1244],\n",
       "          [ 0.0447, -0.1618, -0.6145, -0.0043, -0.1478, -0.2306,  0.1148,\n",
       "            0.2417, -0.0104,  0.4141, -0.4044, -0.0170],\n",
       "          [ 0.2030,  0.2242,  1.1998,  0.2642, -0.7114, -0.0552,  0.0157,\n",
       "            0.0593, -0.3830, -0.2166,  0.1589, -1.1474],\n",
       "          [ 0.3092,  0.8114, -0.5993, -0.0998,  0.3877,  0.5875, -0.1977,\n",
       "            0.2493, -0.4336, -0.4847,  0.3530,  0.5499],\n",
       "          [ 0.0268,  0.4409,  0.4286, -0.3541, -0.7957,  0.0248,  0.3978,\n",
       "           -0.4168, -0.8642,  0.4003, -0.8823, -0.8682],\n",
       "          [ 0.3518,  0.3533,  0.3824,  0.0119,  0.6453,  0.2746,  0.4710,\n",
       "            0.4287,  0.1703,  0.0668, -0.7236,  0.0700],\n",
       "          [ 0.1386, -0.7271, -0.2218, -0.2790,  0.4975, -0.0906, -0.5116,\n",
       "            0.7353,  0.7499, -0.3364,  0.4837,  0.1343],\n",
       "          [ 0.3312,  0.5530, -0.5250, -1.6041, -1.0310, -0.3484,  0.0128,\n",
       "           -0.1569, -0.4229,  0.3124, -0.5314,  0.1983],\n",
       "          [ 0.4224,  0.2696, -0.4004, -0.2099,  0.2730,  0.0485,  0.5524,\n",
       "            1.2860, -0.2933, -0.5511, -0.5642,  0.7183]],\n",
       "\n",
       "         [[-0.5640,  0.2997, -1.0728,  0.0914,  1.5593,  0.2351,  0.9113,\n",
       "            1.2311,  0.9606,  0.2879, -0.0019, -1.7384],\n",
       "          [-0.5336,  0.3263,  1.1013,  0.1002,  0.0942,  0.9708,  0.2153,\n",
       "            0.9511,  0.8779, -0.0693, -0.4606,  0.2169],\n",
       "          [ 0.0981, -0.6977, -0.1338,  1.0466, -0.3487, -0.1057,  0.4781,\n",
       "            0.7860,  0.9797, -0.1567, -1.3727, -0.1318],\n",
       "          [ 0.2157, -0.0738, -1.1280,  0.0687, -0.9656, -0.1552,  1.3345,\n",
       "            0.6192, -0.4256,  0.4628, -0.3579, -0.9057],\n",
       "          [ 0.5020,  0.1964,  0.1538,  0.2126, -0.1071, -0.4723,  0.8089,\n",
       "            1.3441, -0.0410,  0.2362,  0.4948, -0.3624],\n",
       "          [ 0.4494, -0.2031, -0.4637, -1.1405, -0.9354,  0.7568,  0.5515,\n",
       "            0.4662, -0.4684, -0.5511, -0.0417,  0.9497],\n",
       "          [-0.3856, -1.1056,  1.1535,  0.4459, -0.2511,  0.8248,  0.4029,\n",
       "           -0.0507, -1.1398, -0.1632,  0.2976,  0.4482],\n",
       "          [ 0.8992,  1.0318,  0.0785, -0.3717, -0.0170,  0.9214,  0.5746,\n",
       "            0.1260, -0.1831, -0.2840,  0.2546,  0.4344],\n",
       "          [-0.5185,  0.3950,  0.3896, -0.5289, -0.7276, -0.0179,  0.4083,\n",
       "            0.0244, -1.2271,  0.3880,  0.2304,  0.6838],\n",
       "          [-0.6743, -0.4468,  0.0486, -0.0938,  0.2683,  0.0815,  0.1743,\n",
       "           -0.5595,  0.1949,  0.1546, -0.1791, -0.3643],\n",
       "          [-0.3474,  0.6356,  0.2692, -0.2209,  0.4402,  0.2159, -0.1366,\n",
       "            0.1110,  1.1900, -0.0906,  0.5901,  0.7021],\n",
       "          [ 0.2354,  0.5130,  0.3005,  0.4107, -0.3014,  0.0285,  0.5266,\n",
       "           -0.6208,  0.3361,  0.1693,  0.1600,  0.3803]]]],\n",
       "       grad_fn=<MkldnnConvolutionBackward>)"
      ]
     },
     "execution_count": 516,
     "metadata": {},
     "output_type": "execute_result"
    }
   ],
   "source": [
    "conv2d = torch.nn.Conv2d(in_channels=3, out_channels=6, kernel_size=5, stride=2, padding=0, dilation=2, groups=1, bias=True, padding_mode='zeros')\n",
    "torch_out = conv2d(input)\n",
    "torch_out"
   ]
  },
  {
   "cell_type": "code",
   "execution_count": 517,
   "metadata": {},
   "outputs": [
    {
     "data": {
      "text/plain": [
       "tensor([[[[ 0.0821, -0.0993, -0.0205, -0.0908, -0.0726],\n",
       "          [ 0.0782, -0.0827,  0.0364, -0.0543, -0.0460],\n",
       "          [-0.0435,  0.0638, -0.0603, -0.0149, -0.0693],\n",
       "          [-0.0679, -0.0198,  0.0328,  0.0398, -0.0980],\n",
       "          [-0.0654,  0.0509, -0.0519, -0.0443, -0.0670]],\n",
       "\n",
       "         [[ 0.0965, -0.0610,  0.1049,  0.0507, -0.0265],\n",
       "          [-0.0489,  0.0775, -0.0861, -0.0396,  0.0211],\n",
       "          [ 0.0834, -0.0577, -0.0476, -0.1046, -0.0708],\n",
       "          [-0.0532, -0.1066,  0.0085, -0.0188, -0.0339],\n",
       "          [-0.1021,  0.0223,  0.0815, -0.0009,  0.0874]],\n",
       "\n",
       "         [[-0.1089,  0.0628, -0.0503, -0.1050,  0.1023],\n",
       "          [ 0.1039, -0.0714, -0.0955, -0.0672, -0.0090],\n",
       "          [-0.0138,  0.0183, -0.0213,  0.0277,  0.1091],\n",
       "          [ 0.0825, -0.0676,  0.0266, -0.0143,  0.0741],\n",
       "          [-0.1126,  0.0698, -0.0678, -0.0941, -0.0345]]],\n",
       "\n",
       "\n",
       "        [[[-0.1040, -0.0331, -0.0564,  0.0115,  0.0728],\n",
       "          [-0.0420,  0.0190,  0.0088,  0.0397,  0.0646],\n",
       "          [ 0.0665, -0.0945,  0.0493, -0.0838,  0.0490],\n",
       "          [-0.0657,  0.0636, -0.0522,  0.1010,  0.0128],\n",
       "          [-0.0855, -0.0545,  0.0244,  0.0046,  0.0137]],\n",
       "\n",
       "         [[-0.0677,  0.0321, -0.0628, -0.0767, -0.0925],\n",
       "          [-0.0204,  0.0276,  0.0539,  0.0083,  0.0413],\n",
       "          [ 0.0465, -0.0832,  0.0534,  0.0397,  0.0413],\n",
       "          [-0.0431,  0.0392, -0.0173, -0.0824, -0.1135],\n",
       "          [ 0.0248,  0.0644, -0.0764, -0.0633,  0.1085]],\n",
       "\n",
       "         [[ 0.0614,  0.0939,  0.0372,  0.0649,  0.0906],\n",
       "          [-0.1122,  0.0299,  0.0805, -0.0191, -0.0237],\n",
       "          [-0.0405,  0.0946,  0.1080, -0.0910, -0.0645],\n",
       "          [-0.1003, -0.0344,  0.0702,  0.0806,  0.0970],\n",
       "          [ 0.0744, -0.0561, -0.0005,  0.0836, -0.0500]]],\n",
       "\n",
       "\n",
       "        [[[ 0.0592, -0.0741,  0.0782,  0.0346,  0.0706],\n",
       "          [-0.0683, -0.0089, -0.0764, -0.0027,  0.0022],\n",
       "          [-0.0150,  0.0870, -0.1062,  0.0208,  0.0449],\n",
       "          [-0.0860, -0.0902,  0.0321, -0.1085,  0.1020],\n",
       "          [ 0.0668, -0.0837, -0.0659, -0.1024,  0.0574]],\n",
       "\n",
       "         [[ 0.0034,  0.0452,  0.0544,  0.0998,  0.0860],\n",
       "          [ 0.0328,  0.0112,  0.0556,  0.0467,  0.1034],\n",
       "          [ 0.0472,  0.0514, -0.0265, -0.0377, -0.0076],\n",
       "          [ 0.0284,  0.0019, -0.1139, -0.0290, -0.0053],\n",
       "          [-0.0423, -0.0530,  0.0435,  0.0920,  0.0042]],\n",
       "\n",
       "         [[ 0.1142,  0.0714, -0.0574,  0.0143, -0.0299],\n",
       "          [ 0.0046,  0.1086,  0.1071,  0.0269, -0.0372],\n",
       "          [-0.0903, -0.1113, -0.0196,  0.0043,  0.1046],\n",
       "          [-0.0391,  0.0182,  0.0609, -0.0905, -0.0270],\n",
       "          [-0.0270,  0.0302,  0.0186,  0.0125, -0.0331]]],\n",
       "\n",
       "\n",
       "        [[[ 0.0706, -0.0083, -0.0439,  0.0291, -0.0453],\n",
       "          [ 0.0020, -0.0778,  0.1029,  0.0125,  0.1110],\n",
       "          [-0.1007,  0.0526,  0.0092, -0.0150, -0.0977],\n",
       "          [ 0.0589,  0.0412,  0.0393,  0.0026,  0.0657],\n",
       "          [ 0.0261, -0.0727,  0.0460,  0.0131,  0.0317]],\n",
       "\n",
       "         [[-0.1123, -0.0411,  0.0654,  0.0695,  0.0716],\n",
       "          [ 0.0757, -0.0956,  0.0396, -0.0305,  0.0231],\n",
       "          [ 0.1040,  0.0746,  0.0338,  0.0488, -0.1000],\n",
       "          [ 0.0520,  0.0523, -0.0100, -0.0046,  0.0537],\n",
       "          [-0.0635, -0.0641,  0.0920, -0.0829,  0.1064]],\n",
       "\n",
       "         [[ 0.0888, -0.0647, -0.0413,  0.0147, -0.0115],\n",
       "          [ 0.1031, -0.0734, -0.0816,  0.0445,  0.0904],\n",
       "          [ 0.0454,  0.0112, -0.0165, -0.0116,  0.0697],\n",
       "          [-0.0372, -0.0975, -0.1088,  0.0011, -0.0765],\n",
       "          [ 0.0494,  0.1066,  0.1004,  0.0428, -0.0531]]],\n",
       "\n",
       "\n",
       "        [[[ 0.0573, -0.0953,  0.0293,  0.0852,  0.0736],\n",
       "          [ 0.0247,  0.0921, -0.0390,  0.1118,  0.0044],\n",
       "          [ 0.0486, -0.0463, -0.0978, -0.0367,  0.0289],\n",
       "          [-0.1114, -0.0176,  0.0049,  0.0500,  0.0453],\n",
       "          [ 0.0096,  0.0780, -0.0808, -0.1029, -0.0226]],\n",
       "\n",
       "         [[ 0.1088,  0.0215, -0.0685,  0.1148, -0.0555],\n",
       "          [-0.1130, -0.0396,  0.0592,  0.1103,  0.0056],\n",
       "          [-0.0933,  0.0809, -0.0018,  0.0913, -0.0310],\n",
       "          [ 0.0440,  0.0729,  0.1149, -0.1050,  0.0013],\n",
       "          [-0.0772,  0.0450,  0.0712, -0.0133, -0.0089]],\n",
       "\n",
       "         [[ 0.0313,  0.0629, -0.0137,  0.0479,  0.0655],\n",
       "          [ 0.0016,  0.0195, -0.1069, -0.0331,  0.0146],\n",
       "          [ 0.0041,  0.0140,  0.0297, -0.1019, -0.0528],\n",
       "          [ 0.0658, -0.0650,  0.0220,  0.1100,  0.0415],\n",
       "          [-0.0761,  0.0344, -0.1028, -0.0887, -0.0201]]],\n",
       "\n",
       "\n",
       "        [[[ 0.0258, -0.1108, -0.0038,  0.0809,  0.0348],\n",
       "          [ 0.0568, -0.1037, -0.0094,  0.0646, -0.0804],\n",
       "          [ 0.0912, -0.0691, -0.0718,  0.1048,  0.1150],\n",
       "          [-0.0343, -0.1026, -0.0356, -0.0801,  0.0998],\n",
       "          [-0.0590, -0.0909,  0.0272,  0.0356, -0.0983]],\n",
       "\n",
       "         [[-0.0907,  0.0950,  0.0583,  0.0026,  0.0347],\n",
       "          [-0.0736,  0.0368,  0.0968, -0.1100, -0.0500],\n",
       "          [-0.0536,  0.0466, -0.0704, -0.1142, -0.0635],\n",
       "          [-0.0027,  0.0826,  0.0662, -0.0760, -0.0669],\n",
       "          [ 0.0064, -0.1139, -0.0767,  0.0724,  0.0995]],\n",
       "\n",
       "         [[-0.0178, -0.1138, -0.0216, -0.0613, -0.0855],\n",
       "          [-0.0507,  0.0401,  0.0681, -0.0917, -0.0552],\n",
       "          [ 0.0323, -0.0841, -0.0535,  0.0255, -0.0890],\n",
       "          [ 0.0839,  0.0075, -0.0571, -0.0132, -0.0555],\n",
       "          [ 0.0469, -0.0293, -0.0311,  0.0174,  0.0265]]]])"
      ]
     },
     "execution_count": 517,
     "metadata": {},
     "output_type": "execute_result"
    }
   ],
   "source": [
    "kernels_data = conv2d.weight.data\n",
    "kernels_data"
   ]
  },
  {
   "cell_type": "code",
   "execution_count": 519,
   "metadata": {},
   "outputs": [
    {
     "data": {
      "text/plain": [
       "torch.Size([6, 3, 5, 5])"
      ]
     },
     "execution_count": 519,
     "metadata": {},
     "output_type": "execute_result"
    }
   ],
   "source": [
    "kernels_data.size()"
   ]
  },
  {
   "cell_type": "code",
   "execution_count": 518,
   "metadata": {},
   "outputs": [
    {
     "data": {
      "text/plain": [
       "tensor([-0.0877,  0.0740,  0.0608, -0.0398,  0.0165,  0.0643])"
      ]
     },
     "execution_count": 518,
     "metadata": {},
     "output_type": "execute_result"
    }
   ],
   "source": [
    "bias = conv2d.bias.data\n",
    "bias"
   ]
  },
  {
   "cell_type": "code",
   "execution_count": 529,
   "metadata": {},
   "outputs": [],
   "source": [
    "class My_conv2d(nn.Module):\n",
    "    def __init__(self, in_channels=3, out_channels=6, kernel_size=(5,5), stride=2, bias=bias, dilation=2):\n",
    "        super(My_conv2d, self).__init__()\n",
    "        self.stride = stride\n",
    "        self.bias = bias\n",
    "        self.kernel_size = kernel_size\n",
    "        self.k_height = kernel_size[0]*dilation-1\n",
    "        self.k_width = kernel_size[1]*dilation-1\n",
    "        self.h = kernel_size[0]\n",
    "        self.w = kernel_size[1]\n",
    "        self.in_channels = in_channels\n",
    "        self.out_channels = out_channels\n",
    "        self.dilation = dilation\n",
    "\n",
    "    def forward(self, x):\n",
    "        dilation = self.dilation\n",
    "        in_batch = x.size(0)\n",
    "        in_channel = x.size(1)\n",
    "        in_height = x.size(2)\n",
    "        in_width = x.size(3)\n",
    "\n",
    "        out_height = int((in_height - self.k_height) / self.stride) + 1\n",
    "        out_width = int((in_width - self.k_width) / self.stride) + 1\n",
    "        out = torch.zeros((in_batch, self.out_channels, out_height, out_width))\n",
    "        \n",
    "        kernel = torch.zeros((self.out_channels, in_channel, self.k_height, self.k_width))\n",
    "        for a in range(self.out_channels):\n",
    "            for k in range(in_channel):\n",
    "                for i in range(self.h):\n",
    "                    for j in range(self.w):\n",
    "                        kernel[a, k, i*dilation, j*dilation] = kernels_data[a,k,i,j]\n",
    "\n",
    "        for a in range(in_batch):\n",
    "            for ker in range(self.out_channels):\n",
    "                for k in range(in_channel):\n",
    "                    for i in range(out_height):\n",
    "                        for j in range(out_width):\n",
    "                            start_i = i * self.stride\n",
    "                            start_j = j * self.stride\n",
    "                            end_i = start_i + self.k_height\n",
    "                            end_j = start_j + self.k_width\n",
    "                            out[a, ker, i, j] += (x[a, k, start_i: end_i, start_j: end_j]*kernel[ker][k]).sum()\n",
    "        for i in range(self.out_channels):\n",
    "            out[0][i] = out[0][i]+bias[i]\n",
    "        return out"
   ]
  },
  {
   "cell_type": "code",
   "execution_count": 530,
   "metadata": {
    "scrolled": false
   },
   "outputs": [
    {
     "data": {
      "text/plain": [
       "tensor([[[[-0.4234,  0.5781, -0.4855, -0.0334, -0.8355,  0.7308, -0.5032,\n",
       "            0.4724,  0.3411, -0.4057,  1.2631,  0.1953],\n",
       "          [ 0.4396, -0.0624, -0.1101, -0.0315,  1.3061,  0.0405,  1.0249,\n",
       "            0.1730, -0.2144, -0.1409,  1.1393, -0.2035],\n",
       "          [-0.6082, -0.5735, -0.3122, -0.0903,  0.6911,  0.3498,  0.4725,\n",
       "           -1.2455,  0.8956, -0.3909,  0.1664,  1.0153],\n",
       "          [ 1.5272, -0.2243,  0.1931, -0.0614,  0.6014, -0.6781, -0.7350,\n",
       "            0.2121,  0.2091, -0.0565,  0.3062,  0.2745],\n",
       "          [ 0.7642,  0.4490, -0.8946, -0.2855,  0.2761, -0.9191,  0.2754,\n",
       "           -0.1572,  0.2909, -1.0251,  0.1766,  0.6049],\n",
       "          [-0.9919,  0.2351,  0.0942,  0.3471, -0.7130,  0.4018,  0.0895,\n",
       "            1.1719, -0.3506,  0.1134,  0.3155, -0.2602],\n",
       "          [-0.0104,  0.5061, -0.8908,  1.0976,  0.1444,  0.1199,  0.0257,\n",
       "           -0.2553,  1.0108,  0.4887, -0.1603,  0.8280],\n",
       "          [ 0.9201, -0.8402,  0.5260,  0.4374, -0.9767, -0.2094, -0.2467,\n",
       "           -0.1311,  0.1888, -0.4859,  0.6703, -0.0737],\n",
       "          [ 0.7308,  0.8291,  0.6515, -1.2783,  0.2818, -0.6055,  0.1880,\n",
       "           -0.5040,  0.1904, -0.5008, -0.1478, -0.5032],\n",
       "          [-0.2037, -0.0745,  0.4014,  0.8856,  0.4635, -0.2039, -0.2375,\n",
       "            0.0706,  0.0355, -0.2904,  0.2421,  0.2923],\n",
       "          [ 0.2266, -0.6973, -0.0640,  0.2247, -0.3998,  0.2412, -1.4172,\n",
       "           -0.3261, -0.5864,  0.5622, -0.0120, -0.0824],\n",
       "          [-0.5902,  0.9673, -0.1497, -0.0091,  0.3093,  0.0169, -0.2377,\n",
       "           -0.4621,  0.0093,  0.4604, -0.3459,  0.5285]],\n",
       "\n",
       "         [[ 1.1240,  0.3493,  1.6865, -0.2816,  0.6911,  0.2108, -0.4617,\n",
       "           -0.2095,  0.3091,  0.8580, -0.7220, -0.2943],\n",
       "          [-0.4705,  0.8935, -0.4816,  0.2079, -0.3325, -0.2525, -0.5431,\n",
       "           -0.1712,  0.2979, -0.7382, -0.2073, -0.8946],\n",
       "          [ 0.7495,  0.6664,  0.4649, -0.6164, -0.0132, -1.5767,  0.4152,\n",
       "            0.8573, -0.3618, -0.3862, -0.3123,  0.0706],\n",
       "          [ 0.4932,  0.7021,  0.7014,  0.2545,  0.0538, -0.2678,  0.6347,\n",
       "           -0.4400,  0.0359, -0.2998,  0.9279, -0.5848],\n",
       "          [-1.4253,  0.0810,  0.1185,  0.6985, -0.2418,  0.5890, -0.7562,\n",
       "            0.7407, -0.3114, -0.1915, -1.1223, -0.3815],\n",
       "          [ 0.2645,  0.7686,  0.5396,  1.2577,  0.6844,  0.3481,  0.7282,\n",
       "            0.0363, -0.1123, -0.2419, -0.0799,  0.5573],\n",
       "          [-0.1615,  0.2905, -0.0399, -0.6275,  0.1241,  0.0333,  0.3746,\n",
       "           -0.5482, -0.2863, -0.2606,  1.0903, -0.3243],\n",
       "          [-0.2424, -0.9000, -0.5703, -0.4285,  0.4205, -0.3791,  0.7072,\n",
       "            0.2432, -0.4889,  0.1847, -0.2145, -0.5229],\n",
       "          [-1.2196,  0.2757,  0.2180,  1.4614, -0.0781,  1.4173,  0.6470,\n",
       "           -0.2416,  0.1344,  0.1777, -0.2385,  0.3003],\n",
       "          [ 0.5712, -0.7656, -1.0846, -0.3520,  0.5054,  0.2606, -0.0329,\n",
       "            0.0040,  0.0550,  1.0117,  0.2110,  1.1020],\n",
       "          [ 0.0602,  0.2569, -0.5514, -0.3632,  0.1674, -0.4739,  0.4923,\n",
       "           -0.6915,  0.0747,  0.0058,  0.1853, -0.1098],\n",
       "          [-0.4656, -0.3134,  0.7640,  0.5264,  0.4196,  0.5748,  0.2452,\n",
       "            1.1747, -0.7758, -0.4708,  0.4551,  0.5758]],\n",
       "\n",
       "         [[-0.5005,  0.6887,  0.0054, -0.3729, -0.0319,  0.2463,  1.5708,\n",
       "            1.4963, -0.4945, -0.3520, -0.3360,  0.5177],\n",
       "          [ 1.1206, -0.1352,  0.6319, -0.5979, -0.2131, -0.0496, -0.7946,\n",
       "            0.6103, -0.5185, -0.1853, -0.0071, -0.3176],\n",
       "          [-0.6845,  0.3388,  0.7148,  0.8816, -0.1716,  0.5065, -0.4911,\n",
       "           -0.9659, -0.2802, -0.4302,  0.1286,  0.0123],\n",
       "          [-0.4615,  0.6433, -0.6526, -0.1061, -1.0520,  0.4588,  0.1898,\n",
       "            0.2944,  0.3897,  0.1331, -0.7367, -0.3120],\n",
       "          [ 0.3234,  0.1573,  0.1317, -0.2722, -0.0101, -0.7059,  0.7595,\n",
       "           -0.1988, -0.3420,  1.1965,  1.0242,  0.0856],\n",
       "          [-0.6948, -0.1164,  0.0950,  0.2918,  1.3533,  0.6166, -0.3086,\n",
       "           -0.6492, -0.2104, -1.1742, -0.1633,  0.4538],\n",
       "          [-0.2400, -0.0445,  0.1505,  0.8793,  0.5017,  0.6960,  0.4736,\n",
       "            0.3688, -1.1461,  0.1073, -0.4617, -0.3426],\n",
       "          [ 1.0189,  0.4458, -0.1444,  0.5705, -0.0145,  0.5122,  0.2361,\n",
       "            0.5256,  0.3339,  0.3353,  0.4759,  1.2422],\n",
       "          [-0.1845, -0.6055, -0.3982, -0.3482,  0.0434,  0.7338,  0.8344,\n",
       "           -0.3416, -0.3219, -0.6419,  0.1093,  0.2278],\n",
       "          [-0.2619, -0.3450, -0.4830,  0.5913,  0.6087, -0.7308,  0.8509,\n",
       "           -0.1738, -0.6269, -0.9219,  0.1350, -0.0729],\n",
       "          [ 0.8972, -0.0650,  0.1403, -0.0650,  0.4337,  0.4913,  0.0929,\n",
       "            0.5283, -0.0861,  0.2932, -0.1050,  0.0424],\n",
       "          [ 0.0090, -0.1139, -0.3211, -1.4752, -0.2102,  0.2265, -0.0667,\n",
       "            0.6509,  0.5517,  0.8049, -0.0715, -0.3105]],\n",
       "\n",
       "         [[-1.0658, -0.8766, -0.4505, -0.1395, -0.1874, -0.6698,  0.7287,\n",
       "            0.0673, -0.2494, -0.7717, -0.0904, -0.4795],\n",
       "          [ 0.1483, -0.8529,  0.0765,  0.1602, -0.2387,  0.0688, -0.3516,\n",
       "            0.1052, -0.8875,  0.0331, -0.3069,  0.4722],\n",
       "          [-1.1315,  0.6293, -1.2298,  0.3239,  0.0311,  0.5042, -0.8027,\n",
       "           -0.7295,  0.2036, -0.1580, -0.1452, -0.8177],\n",
       "          [ 0.0996, -0.5844,  0.3350, -0.1748, -0.5241, -0.7384, -0.0132,\n",
       "           -0.0036,  1.1778, -0.1233, -0.1900,  0.3777],\n",
       "          [ 0.8523, -0.8441,  0.0788, -0.6911,  0.0180,  0.2272,  0.7562,\n",
       "           -0.6489,  0.6544, -0.5299,  1.2144,  0.5834],\n",
       "          [-0.1959,  0.1616, -0.7246,  0.5833, -0.4081, -0.5316, -0.5327,\n",
       "            0.0769, -1.1070, -0.1366, -0.9678, -0.0113],\n",
       "          [-0.2248,  0.7017, -0.5306,  0.4560, -0.8711, -0.0606, -0.5868,\n",
       "            0.3453,  0.7356, -0.4626, -1.0025, -0.6115],\n",
       "          [ 0.6082, -0.3231,  0.6651, -0.6980, -0.4093,  1.2254,  0.4238,\n",
       "            1.0152,  0.5519,  0.0129,  0.1538, -0.0184],\n",
       "          [ 0.6619, -0.9723, -0.6114, -0.9789, -0.5464, -0.6456,  0.0413,\n",
       "            0.0093, -0.3969, -0.3082,  0.0648, -0.2950],\n",
       "          [-0.5023,  1.4935,  0.0206,  0.6299, -0.2864,  0.1805,  0.2320,\n",
       "           -0.4983,  0.3395, -0.9563, -0.3034, -0.0698],\n",
       "          [-0.0852, -0.2194,  0.5650,  0.3843,  0.6633,  0.2553,  0.3057,\n",
       "           -0.4979,  0.2937,  0.3462, -0.3058, -0.6285],\n",
       "          [-0.8405,  0.1128, -0.0844, -1.4847, -0.0645, -1.5572, -0.5419,\n",
       "           -0.3134,  0.8103, -0.3720,  0.4995, -0.3539]],\n",
       "\n",
       "         [[-0.7071,  0.6162,  0.2445, -0.1582,  0.1403,  0.1029, -0.2304,\n",
       "           -0.5234, -0.1063, -1.1568,  0.3654,  0.0788],\n",
       "          [-0.4238, -0.5855,  0.3837,  0.1428,  0.2622,  0.1148,  0.5944,\n",
       "            0.8219,  0.8814,  0.4656,  0.1731, -0.0817],\n",
       "          [-0.0263,  0.0058,  0.8716, -0.6508, -0.4709, -0.6892,  0.1078,\n",
       "           -0.3605,  0.8733, -0.4847, -0.6717,  0.4448],\n",
       "          [ 0.0561,  0.2057, -0.6535, -0.5175, -0.3185,  0.3987,  0.0653,\n",
       "           -0.0025, -0.9364,  0.3799, -0.0338, -0.1244],\n",
       "          [ 0.0447, -0.1618, -0.6145, -0.0043, -0.1478, -0.2306,  0.1148,\n",
       "            0.2417, -0.0104,  0.4141, -0.4044, -0.0170],\n",
       "          [ 0.2030,  0.2242,  1.1998,  0.2642, -0.7114, -0.0552,  0.0157,\n",
       "            0.0593, -0.3830, -0.2166,  0.1589, -1.1474],\n",
       "          [ 0.3092,  0.8114, -0.5993, -0.0998,  0.3877,  0.5875, -0.1977,\n",
       "            0.2493, -0.4336, -0.4847,  0.3530,  0.5499],\n",
       "          [ 0.0268,  0.4409,  0.4286, -0.3541, -0.7957,  0.0248,  0.3978,\n",
       "           -0.4168, -0.8642,  0.4003, -0.8823, -0.8682],\n",
       "          [ 0.3518,  0.3533,  0.3824,  0.0119,  0.6453,  0.2746,  0.4710,\n",
       "            0.4287,  0.1703,  0.0668, -0.7236,  0.0700],\n",
       "          [ 0.1386, -0.7271, -0.2218, -0.2790,  0.4975, -0.0906, -0.5116,\n",
       "            0.7353,  0.7499, -0.3364,  0.4837,  0.1343],\n",
       "          [ 0.3312,  0.5530, -0.5250, -1.6041, -1.0310, -0.3484,  0.0128,\n",
       "           -0.1569, -0.4229,  0.3124, -0.5314,  0.1983],\n",
       "          [ 0.4224,  0.2696, -0.4004, -0.2099,  0.2730,  0.0485,  0.5524,\n",
       "            1.2860, -0.2933, -0.5511, -0.5642,  0.7183]],\n",
       "\n",
       "         [[-0.5640,  0.2997, -1.0728,  0.0914,  1.5593,  0.2351,  0.9113,\n",
       "            1.2311,  0.9606,  0.2879, -0.0019, -1.7384],\n",
       "          [-0.5336,  0.3263,  1.1013,  0.1002,  0.0942,  0.9708,  0.2153,\n",
       "            0.9511,  0.8779, -0.0693, -0.4606,  0.2169],\n",
       "          [ 0.0981, -0.6977, -0.1338,  1.0466, -0.3487, -0.1057,  0.4781,\n",
       "            0.7860,  0.9797, -0.1567, -1.3727, -0.1318],\n",
       "          [ 0.2157, -0.0738, -1.1280,  0.0687, -0.9656, -0.1552,  1.3345,\n",
       "            0.6192, -0.4256,  0.4628, -0.3579, -0.9057],\n",
       "          [ 0.5020,  0.1964,  0.1538,  0.2126, -0.1071, -0.4723,  0.8089,\n",
       "            1.3441, -0.0410,  0.2362,  0.4948, -0.3624],\n",
       "          [ 0.4494, -0.2031, -0.4637, -1.1405, -0.9354,  0.7568,  0.5515,\n",
       "            0.4662, -0.4684, -0.5511, -0.0417,  0.9497],\n",
       "          [-0.3856, -1.1056,  1.1535,  0.4459, -0.2511,  0.8248,  0.4029,\n",
       "           -0.0507, -1.1398, -0.1632,  0.2976,  0.4482],\n",
       "          [ 0.8992,  1.0318,  0.0785, -0.3717, -0.0170,  0.9214,  0.5746,\n",
       "            0.1260, -0.1831, -0.2840,  0.2546,  0.4344],\n",
       "          [-0.5185,  0.3950,  0.3896, -0.5289, -0.7276, -0.0179,  0.4083,\n",
       "            0.0244, -1.2271,  0.3880,  0.2304,  0.6838],\n",
       "          [-0.6743, -0.4468,  0.0486, -0.0938,  0.2683,  0.0815,  0.1743,\n",
       "           -0.5595,  0.1949,  0.1546, -0.1791, -0.3643],\n",
       "          [-0.3474,  0.6356,  0.2692, -0.2209,  0.4402,  0.2159, -0.1366,\n",
       "            0.1110,  1.1900, -0.0906,  0.5901,  0.7021],\n",
       "          [ 0.2354,  0.5130,  0.3005,  0.4107, -0.3014,  0.0285,  0.5266,\n",
       "           -0.6208,  0.3361,  0.1693,  0.1600,  0.3803]]]])"
      ]
     },
     "execution_count": 530,
     "metadata": {},
     "output_type": "execute_result"
    }
   ],
   "source": [
    "my_conv2d = My_conv2d()z\n",
    "my_out = my_conv2d(input)\n",
    "my_out"
   ]
  },
  {
   "cell_type": "code",
   "execution_count": 531,
   "metadata": {},
   "outputs": [
    {
     "name": "stdout",
     "output_type": "stream",
     "text": [
      "tensor(True)\n"
     ]
    }
   ],
   "source": [
    "print(torch.all(torch.abs(my_out - torch_out) <= 1e-6))"
   ]
  },
  {
   "cell_type": "markdown",
   "metadata": {},
   "source": [
    "# 1.5"
   ]
  },
  {
   "cell_type": "code",
   "execution_count": 535,
   "metadata": {},
   "outputs": [
    {
     "data": {
      "text/plain": [
       "tensor([[[[ 0.0259, -0.0681,  0.1114,  ..., -0.1212, -0.2148,  0.1305],\n",
       "          [-0.0211,  0.0571,  0.4747,  ..., -0.0940,  0.3052,  0.2983],\n",
       "          [-0.0786,  0.8783, -0.2535,  ...,  0.0039, -0.4889, -0.0546],\n",
       "          ...,\n",
       "          [ 0.2877,  0.1466,  0.0814,  ...,  0.3625,  0.2002,  0.0823],\n",
       "          [ 0.3180, -0.3033,  0.3465,  ..., -0.4777, -0.1958,  0.0730],\n",
       "          [ 0.0684,  0.2043, -0.2238,  ..., -0.0125,  0.1276,  0.1600]],\n",
       "\n",
       "         [[-0.2973,  0.0920,  0.2870,  ...,  0.2156, -0.3258, -0.4510],\n",
       "          [ 0.1167, -0.2482, -0.5541,  ..., -0.9827, -0.3689,  0.1132],\n",
       "          [-0.1379, -0.6124, -0.0087,  ...,  0.1555,  0.1822, -0.2438],\n",
       "          ...,\n",
       "          [-0.4448,  0.1745, -0.6814,  ...,  0.0033,  0.5727,  0.1045],\n",
       "          [-0.1904,  0.2280,  0.1237,  ..., -0.0376, -0.2962, -0.4025],\n",
       "          [-0.0534, -0.0148,  0.1375,  ..., -0.2130,  0.1145, -0.1221]],\n",
       "\n",
       "         [[-0.1906,  0.7014, -0.3003,  ...,  0.4992, -0.0831,  0.0692],\n",
       "          [ 0.4473,  0.0771,  0.0153,  ...,  0.0594,  0.1676,  0.2834],\n",
       "          [ 0.2964, -0.3776,  0.4133,  ..., -0.4637, -0.1450,  0.0590],\n",
       "          ...,\n",
       "          [-0.2580, -0.0830, -0.0752,  ..., -0.2255,  0.1814,  0.2137],\n",
       "          [-0.2217,  0.1280, -0.3881,  ..., -0.1375, -0.1212, -0.0574],\n",
       "          [-0.0134, -0.1617,  0.1502,  ..., -0.1525, -0.0566, -0.0451]],\n",
       "\n",
       "         [[-0.0662, -0.1235,  0.4083,  ...,  0.0102,  0.3583,  0.3862],\n",
       "          [ 0.3231,  0.6736,  0.3757,  ..., -0.2362, -0.0925,  0.5511],\n",
       "          [ 0.3158,  0.3710,  0.5497,  ..., -0.4627, -0.1847,  0.4874],\n",
       "          ...,\n",
       "          [ 0.2803,  0.1915,  0.6626,  ..., -0.0840, -0.5089,  0.2262],\n",
       "          [-0.0874, -0.4991, -0.0389,  ...,  0.8112,  0.1397,  0.0470],\n",
       "          [ 0.0256, -0.0914,  0.1592,  ...,  0.0684,  0.1735,  0.0891]]]],\n",
       "       grad_fn=<SlowConvTranspose2DBackward>)"
      ]
     },
     "execution_count": 535,
     "metadata": {},
     "output_type": "execute_result"
    }
   ],
   "source": [
    "convtranspose = torch.nn.ConvTranspose2d(in_channels=3, out_channels=4, kernel_size=3, stride=1, padding=0, output_padding=0, groups=1, bias=True, dilation=1, padding_mode='zeros')\n",
    "torch_out = convtranspose(input)\n",
    "torch_out"
   ]
  },
  {
   "cell_type": "code",
   "execution_count": 547,
   "metadata": {},
   "outputs": [
    {
     "data": {
      "text/plain": [
       "torch.Size([1, 4, 34, 34])"
      ]
     },
     "execution_count": 547,
     "metadata": {},
     "output_type": "execute_result"
    }
   ],
   "source": [
    "torch_out.size()"
   ]
  },
  {
   "cell_type": "code",
   "execution_count": 539,
   "metadata": {},
   "outputs": [
    {
     "data": {
      "text/plain": [
       "tensor([[[[-0.0046, -0.0939,  0.0495],\n",
       "          [ 0.0656,  0.1566,  0.1063],\n",
       "          [ 0.1084, -0.1312, -0.0221]],\n",
       "\n",
       "         [[ 0.1299, -0.0386, -0.1573],\n",
       "          [-0.1512,  0.0177,  0.1411],\n",
       "          [ 0.0226,  0.1168, -0.1067]],\n",
       "\n",
       "         [[ 0.1406, -0.0026,  0.0469],\n",
       "          [-0.0195, -0.1385,  0.1551],\n",
       "          [-0.0949,  0.0494,  0.0142]],\n",
       "\n",
       "         [[ 0.1610,  0.0405,  0.1264],\n",
       "          [-0.0561, -0.1306,  0.1341],\n",
       "          [-0.0375, -0.1310,  0.1217]]],\n",
       "\n",
       "\n",
       "        [[[-0.0172,  0.0172, -0.0745],\n",
       "          [-0.0108,  0.1217, -0.0073],\n",
       "          [ 0.0033, -0.1484, -0.0773]],\n",
       "\n",
       "         [[-0.0359,  0.0029,  0.0648],\n",
       "          [ 0.0082, -0.1050, -0.0064],\n",
       "          [-0.0726, -0.0962, -0.0900]],\n",
       "\n",
       "         [[ 0.0222,  0.1064, -0.1531],\n",
       "          [ 0.0937,  0.1625,  0.0669],\n",
       "          [-0.0961,  0.1254,  0.0033]],\n",
       "\n",
       "         [[-0.0966, -0.1608,  0.0978],\n",
       "          [ 0.1322,  0.0942,  0.1665],\n",
       "          [ 0.1209,  0.0127, -0.0356]]],\n",
       "\n",
       "\n",
       "        [[[-0.0075,  0.1516,  0.1426],\n",
       "          [-0.0121,  0.1266,  0.0994],\n",
       "          [ 0.1381, -0.0290,  0.1577]],\n",
       "\n",
       "         [[ 0.1024,  0.0932,  0.0912],\n",
       "          [ 0.0815,  0.0542, -0.0611],\n",
       "          [-0.1102,  0.0960, -0.1578]],\n",
       "\n",
       "         [[ 0.1631, -0.1601, -0.0129],\n",
       "          [ 0.0097,  0.0253,  0.1237],\n",
       "          [-0.1634,  0.0594, -0.0234]],\n",
       "\n",
       "         [[ 0.0163,  0.0971,  0.0938],\n",
       "          [ 0.1171, -0.0903, -0.1264],\n",
       "          [ 0.1355,  0.1620,  0.0471]]]])"
      ]
     },
     "execution_count": 539,
     "metadata": {},
     "output_type": "execute_result"
    }
   ],
   "source": [
    "kernel = convtranspose.weight.data\n",
    "kernel"
   ]
  },
  {
   "cell_type": "code",
   "execution_count": 540,
   "metadata": {},
   "outputs": [
    {
     "data": {
      "text/plain": [
       "torch.Size([3, 4, 3, 3])"
      ]
     },
     "execution_count": 540,
     "metadata": {},
     "output_type": "execute_result"
    }
   ],
   "source": [
    "kernel.size()"
   ]
  },
  {
   "cell_type": "code",
   "execution_count": 543,
   "metadata": {},
   "outputs": [
    {
     "data": {
      "text/plain": [
       "tensor([ 0.0373, -0.1192, -0.0231,  0.1212])"
      ]
     },
     "execution_count": 543,
     "metadata": {},
     "output_type": "execute_result"
    }
   ],
   "source": [
    "bias = convtranspose.bias.data\n",
    "bias"
   ]
  },
  {
   "cell_type": "code",
   "execution_count": 556,
   "metadata": {},
   "outputs": [],
   "source": [
    "class My_ConvTranspose2d(nn.Module):\n",
    "    def __init__(self, in_channels=3, out_channels=4, kernel_size=(3,3), stride=2, bias=bias):\n",
    "        super(My_ConvTranspose2d, self).__init__()\n",
    "        self.stride = stride\n",
    "        self.bias = bias\n",
    "        self.kernel_size = kernel_size\n",
    "        self.k_height = kernel_size[0]\n",
    "        self.k_width = kernel_size[1]\n",
    "        self.in_channels = in_channels\n",
    "        self.out_channels = out_channels\n",
    "\n",
    "    def forward(self, x):\n",
    "        in_batch = x.size(0)\n",
    "        in_channel = x.size(1)\n",
    "        in_height = x.size(2)\n",
    "        in_width = x.size(3)\n",
    "\n",
    "        out_height = in_height + self.k_height - 1\n",
    "        out_width = in_width + self.k_width -1\n",
    "        out = torch.zeros((in_batch, self.out_channels, out_height, out_width))\n",
    "\n",
    "        for a in range(in_batch):\n",
    "            for ker in range(self.out_channels):\n",
    "                for k in range(in_channel):\n",
    "                    for i in range(in_height):\n",
    "                        for j in range(in_width):\n",
    "                            out[a, ker, i:i+self.k_height, j:j+self.k_width] += x[a, k, i, j] * kernel[k][ker]\n",
    "        for i in range(self.out_channels):\n",
    "            out[0][i] = out[0][i]+bias[i]\n",
    "        return out"
   ]
  },
  {
   "cell_type": "code",
   "execution_count": 557,
   "metadata": {},
   "outputs": [
    {
     "data": {
      "text/plain": [
       "tensor([[[[ 0.0259, -0.0681,  0.1114,  ..., -0.1212, -0.2148,  0.1305],\n",
       "          [-0.0211,  0.0571,  0.4747,  ..., -0.0940,  0.3052,  0.2983],\n",
       "          [-0.0786,  0.8783, -0.2535,  ...,  0.0039, -0.4889, -0.0546],\n",
       "          ...,\n",
       "          [ 0.2877,  0.1466,  0.0814,  ...,  0.3625,  0.2002,  0.0823],\n",
       "          [ 0.3180, -0.3033,  0.3465,  ..., -0.4777, -0.1958,  0.0730],\n",
       "          [ 0.0684,  0.2043, -0.2238,  ..., -0.0125,  0.1276,  0.1600]],\n",
       "\n",
       "         [[-0.2973,  0.0920,  0.2870,  ...,  0.2156, -0.3258, -0.4510],\n",
       "          [ 0.1167, -0.2482, -0.5541,  ..., -0.9827, -0.3689,  0.1132],\n",
       "          [-0.1379, -0.6124, -0.0087,  ...,  0.1555,  0.1822, -0.2438],\n",
       "          ...,\n",
       "          [-0.4448,  0.1745, -0.6814,  ...,  0.0033,  0.5727,  0.1045],\n",
       "          [-0.1904,  0.2280,  0.1237,  ..., -0.0376, -0.2962, -0.4025],\n",
       "          [-0.0534, -0.0148,  0.1375,  ..., -0.2130,  0.1145, -0.1221]],\n",
       "\n",
       "         [[-0.1906,  0.7014, -0.3003,  ...,  0.4992, -0.0831,  0.0692],\n",
       "          [ 0.4473,  0.0771,  0.0153,  ...,  0.0594,  0.1676,  0.2834],\n",
       "          [ 0.2964, -0.3776,  0.4133,  ..., -0.4637, -0.1450,  0.0590],\n",
       "          ...,\n",
       "          [-0.2580, -0.0830, -0.0752,  ..., -0.2255,  0.1814,  0.2137],\n",
       "          [-0.2217,  0.1280, -0.3881,  ..., -0.1375, -0.1212, -0.0574],\n",
       "          [-0.0134, -0.1617,  0.1502,  ..., -0.1525, -0.0566, -0.0451]],\n",
       "\n",
       "         [[-0.0662, -0.1235,  0.4083,  ...,  0.0102,  0.3583,  0.3862],\n",
       "          [ 0.3231,  0.6736,  0.3757,  ..., -0.2362, -0.0925,  0.5511],\n",
       "          [ 0.3158,  0.3710,  0.5497,  ..., -0.4627, -0.1847,  0.4874],\n",
       "          ...,\n",
       "          [ 0.2803,  0.1915,  0.6626,  ..., -0.0840, -0.5089,  0.2262],\n",
       "          [-0.0874, -0.4991, -0.0389,  ...,  0.8112,  0.1397,  0.0470],\n",
       "          [ 0.0256, -0.0914,  0.1592,  ...,  0.0684,  0.1735,  0.0891]]]])"
      ]
     },
     "execution_count": 557,
     "metadata": {},
     "output_type": "execute_result"
    }
   ],
   "source": [
    "my_out = My_ConvTranspose2d()\n",
    "my_out = my_out(input)\n",
    "my_out"
   ]
  },
  {
   "cell_type": "code",
   "execution_count": 558,
   "metadata": {},
   "outputs": [
    {
     "name": "stdout",
     "output_type": "stream",
     "text": [
      "tensor(True)\n"
     ]
    }
   ],
   "source": [
    "print(torch.all(torch.abs(my_out - torch_out) <= 1e-6))"
   ]
  },
  {
   "cell_type": "markdown",
   "metadata": {},
   "source": [
    "# 2.1"
   ]
  },
  {
   "cell_type": "code",
   "execution_count": 279,
   "metadata": {},
   "outputs": [
    {
     "data": {
      "text/plain": [
       "tensor([-0.4018,  0.5637,  1.5790,  ..., -1.0221, -0.4624,  0.5604])"
      ]
     },
     "execution_count": 279,
     "metadata": {},
     "output_type": "execute_result"
    }
   ],
   "source": [
    "torch_out = torch.flatten(input, start_dim=0, end_dim=-1)\n",
    "torch_out"
   ]
  },
  {
   "cell_type": "code",
   "execution_count": 280,
   "metadata": {},
   "outputs": [],
   "source": [
    "def my_flatten(data, start, end):\n",
    "    index = list(data.numpy().shape)\n",
    "    if end<0:\n",
    "        end = end + len(index)\n",
    "    temp = 1\n",
    "    for i in range(start,end+1):\n",
    "        temp = temp*index[i]\n",
    "    for j in range(end,start,-1):\n",
    "        index.pop(j)\n",
    "    index[start] = temp\n",
    "    return data.reshape(index)"
   ]
  },
  {
   "cell_type": "code",
   "execution_count": 281,
   "metadata": {},
   "outputs": [
    {
     "data": {
      "text/plain": [
       "tensor([-0.4018,  0.5637,  1.5790,  ..., -1.0221, -0.4624,  0.5604])"
      ]
     },
     "execution_count": 281,
     "metadata": {},
     "output_type": "execute_result"
    }
   ],
   "source": [
    "my_out = my_flatten(input, 0, -1)\n",
    "my_out"
   ]
  },
  {
   "cell_type": "code",
   "execution_count": 282,
   "metadata": {},
   "outputs": [
    {
     "data": {
      "text/plain": [
       "True"
      ]
     },
     "execution_count": 282,
     "metadata": {},
     "output_type": "execute_result"
    }
   ],
   "source": [
    "torch.equal(my_out, torch_out)"
   ]
  },
  {
   "cell_type": "markdown",
   "metadata": {},
   "source": [
    "# 2.2"
   ]
  },
  {
   "cell_type": "code",
   "execution_count": 283,
   "metadata": {},
   "outputs": [
    {
     "data": {
      "text/plain": [
       "tensor([[[[0.4009, 0.6373, 0.8291,  ..., 0.1839, 0.7155, 0.8909],\n",
       "          [0.7809, 0.5274, 0.6567,  ..., 0.6267, 0.7032, 0.6621],\n",
       "          [0.5845, 0.7487, 0.3868,  ..., 0.7821, 0.5419, 0.4716],\n",
       "          ...,\n",
       "          [0.4801, 0.3879, 0.2663,  ..., 0.6771, 0.2727, 0.7147],\n",
       "          [0.8587, 0.2926, 0.7635,  ..., 0.8397, 0.8103, 0.7015],\n",
       "          [0.6593, 0.7689, 0.1588,  ..., 0.4129, 0.2929, 0.3628]],\n",
       "\n",
       "         [[0.7557, 0.7244, 0.5745,  ..., 0.2356, 0.6783, 0.5114],\n",
       "          [0.7242, 0.5932, 0.4315,  ..., 0.2121, 0.1573, 0.5722],\n",
       "          [0.7057, 0.3499, 0.5306,  ..., 0.6403, 0.7440, 0.6598],\n",
       "          ...,\n",
       "          [0.5963, 0.3310, 0.6575,  ..., 0.5343, 0.4617, 0.5498],\n",
       "          [0.3555, 0.3999, 0.6532,  ..., 0.6355, 0.4634, 0.5352],\n",
       "          [0.4343, 0.2898, 0.4477,  ..., 0.8356, 0.3608, 0.4299]],\n",
       "\n",
       "         [[0.3028, 0.9056, 0.4030,  ..., 0.4163, 0.4335, 0.4872],\n",
       "          [0.7329, 0.2480, 0.2239,  ..., 0.4918, 0.1316, 0.5552],\n",
       "          [0.6633, 0.4047, 0.6370,  ..., 0.7839, 0.3525, 0.3792],\n",
       "          ...,\n",
       "          [0.7231, 0.7224, 0.4594,  ..., 0.3142, 0.1736, 0.3120],\n",
       "          [0.5673, 0.1861, 0.2192,  ..., 0.5953, 0.6820, 0.6055],\n",
       "          [0.4287, 0.6388, 0.5019,  ..., 0.2646, 0.3864, 0.6365]]]])"
      ]
     },
     "execution_count": 283,
     "metadata": {},
     "output_type": "execute_result"
    }
   ],
   "source": [
    "torch_out = torch.sigmoid(input, out=None)\n",
    "torch_out"
   ]
  },
  {
   "cell_type": "code",
   "execution_count": 284,
   "metadata": {},
   "outputs": [],
   "source": [
    "def my_sigmoid(x):\n",
    "    return 1 / (1+torch.exp(-x))"
   ]
  },
  {
   "cell_type": "code",
   "execution_count": 285,
   "metadata": {},
   "outputs": [
    {
     "data": {
      "text/plain": [
       "tensor([[[[0.4009, 0.6373, 0.8291,  ..., 0.1839, 0.7155, 0.8909],\n",
       "          [0.7809, 0.5274, 0.6567,  ..., 0.6267, 0.7032, 0.6621],\n",
       "          [0.5845, 0.7487, 0.3868,  ..., 0.7821, 0.5419, 0.4716],\n",
       "          ...,\n",
       "          [0.4801, 0.3879, 0.2663,  ..., 0.6771, 0.2727, 0.7147],\n",
       "          [0.8587, 0.2926, 0.7635,  ..., 0.8397, 0.8103, 0.7015],\n",
       "          [0.6593, 0.7689, 0.1588,  ..., 0.4129, 0.2929, 0.3628]],\n",
       "\n",
       "         [[0.7557, 0.7244, 0.5745,  ..., 0.2356, 0.6783, 0.5114],\n",
       "          [0.7242, 0.5932, 0.4315,  ..., 0.2121, 0.1573, 0.5722],\n",
       "          [0.7057, 0.3499, 0.5306,  ..., 0.6403, 0.7440, 0.6598],\n",
       "          ...,\n",
       "          [0.5963, 0.3310, 0.6575,  ..., 0.5343, 0.4617, 0.5498],\n",
       "          [0.3555, 0.3999, 0.6532,  ..., 0.6355, 0.4634, 0.5352],\n",
       "          [0.4343, 0.2898, 0.4477,  ..., 0.8356, 0.3608, 0.4299]],\n",
       "\n",
       "         [[0.3028, 0.9056, 0.4030,  ..., 0.4163, 0.4335, 0.4872],\n",
       "          [0.7329, 0.2480, 0.2239,  ..., 0.4918, 0.1316, 0.5552],\n",
       "          [0.6633, 0.4047, 0.6370,  ..., 0.7839, 0.3525, 0.3792],\n",
       "          ...,\n",
       "          [0.7231, 0.7224, 0.4594,  ..., 0.3142, 0.1736, 0.3120],\n",
       "          [0.5673, 0.1861, 0.2192,  ..., 0.5953, 0.6820, 0.6055],\n",
       "          [0.4287, 0.6388, 0.5019,  ..., 0.2646, 0.3864, 0.6365]]]])"
      ]
     },
     "execution_count": 285,
     "metadata": {},
     "output_type": "execute_result"
    }
   ],
   "source": [
    "my_out = my_sigmoid(input)\n",
    "my_out"
   ]
  },
  {
   "cell_type": "code",
   "execution_count": 286,
   "metadata": {},
   "outputs": [
    {
     "data": {
      "text/plain": [
       "True"
      ]
     },
     "execution_count": 286,
     "metadata": {},
     "output_type": "execute_result"
    }
   ],
   "source": [
    "torch.equal(my_out, torch_out)"
   ]
  },
  {
   "cell_type": "markdown",
   "metadata": {},
   "source": [
    "# 2.3"
   ]
  },
  {
   "cell_type": "code",
   "execution_count": 645,
   "metadata": {},
   "outputs": [
    {
     "data": {
      "text/plain": [
       "tensor([[ 0.,  0.,  0., 15., 15.]])"
      ]
     },
     "execution_count": 645,
     "metadata": {},
     "output_type": "execute_result"
    }
   ],
   "source": [
    "boxes = torch.Tensor([[0, 0, 0, 15, 15]])\n",
    "boxes"
   ]
  },
  {
   "cell_type": "code",
   "execution_count": 646,
   "metadata": {},
   "outputs": [
    {
     "data": {
      "text/plain": [
       "tensor([[[[1.5790, 1.5790, 0.9646, 2.7889, 1.0140, 0.8330, 1.3395],\n",
       "          [1.3331, 1.4697, 1.8569, 3.1269, 3.1269, 0.8330, 0.8330],\n",
       "          [1.3331, 1.3331, 1.0179, 3.1269, 3.1269, 1.2269, 1.2269],\n",
       "          [1.0935, 1.6951, 1.5574, 1.2923, 1.4861, 1.6620, 0.2996],\n",
       "          [1.2782, 1.6951, 1.5574, 1.2923, 1.1095, 1.1375, 1.7267],\n",
       "          [1.2782, 1.1079, 2.3415, 2.3415, 1.3814, 1.3814, 1.8755],\n",
       "          [1.5475, 1.2200, 1.2856, 1.3032, 2.9455, 2.8276, 0.3285]],\n",
       "\n",
       "         [[1.1295, 1.2357, 2.4697, 1.3948, 0.5005, 1.9451, 1.5043],\n",
       "          [0.8747, 1.6279, 1.6279, 1.3948, 0.6708, 1.9451, 0.8700],\n",
       "          [2.3587, 0.6379, 0.6379, 1.5011, 1.9798, 1.9798, 0.8700],\n",
       "          [1.4683, 1.0179, 0.8217, 1.4460, 1.5852, 1.4715, 1.1953],\n",
       "          [1.0179, 1.6843, 1.3646, 1.4460, 1.5852, 1.7468, 1.7468],\n",
       "          [0.7805, 1.6843, 1.2857, 1.2857, 2.4759, 1.7468, 1.7468],\n",
       "          [2.1762, 1.4452, 1.7019, 1.7015, 2.4759, 1.0590, 2.5660]],\n",
       "\n",
       "         [[2.2613, 1.8689, 1.8689, 1.2769, 1.3600, 1.0822, 0.7096],\n",
       "          [1.3977, 1.9158, 1.9158, 1.7900, 1.2769, 1.3777, 1.3777],\n",
       "          [1.3977, 1.2939, 1.7900, 1.7900, 1.2381, 1.3777, 1.3777],\n",
       "          [2.2719, 1.5085, 1.5085, 1.4615, 1.2279, 1.8446, 0.8466],\n",
       "          [2.2719, 1.2437, 1.4592, 1.9057, 1.9057, 1.8446, 0.3477],\n",
       "          [1.4172, 3.8249, 1.4418, 2.4439, 2.4439, 1.3966, 1.8938],\n",
       "          [1.4172, 1.2149, 1.2149, 2.4439, 2.4439, 1.3966, 0.0410]]]])"
      ]
     },
     "execution_count": 646,
     "metadata": {},
     "output_type": "execute_result"
    }
   ],
   "source": [
    "torch_out = torchvision.ops.roi_pool(input, boxes, (7,7))\n",
    "torch_out"
   ]
  },
  {
   "cell_type": "code",
   "execution_count": 647,
   "metadata": {},
   "outputs": [
    {
     "name": "stderr",
     "output_type": "stream",
     "text": [
      "Clipping input data to the valid range for imshow with RGB data ([0..1] for floats or [0..255] for integers).\n"
     ]
    },
    {
     "data": {
      "image/png": "[encoded data removed]",
      "text/plain": [
       "<Figure size 432x288 with 1 Axes>"
      ]
     },
     "metadata": {
      "needs_background": "light"
     },
     "output_type": "display_data"
    }
   ],
   "source": [
    "img=input[0][:,0:16,0:16]\n",
    "img=img.numpy()\n",
    "img = np.transpose(img, (1, 2, 0))\n",
    "plt.imshow(img)\n",
    "plt.show()"
   ]
  },
  {
   "cell_type": "code",
   "execution_count": 648,
   "metadata": {},
   "outputs": [
    {
     "name": "stderr",
     "output_type": "stream",
     "text": [
      "Clipping input data to the valid range for imshow with RGB data ([0..1] for floats or [0..255] for integers).\n"
     ]
    },
    {
     "data": {
      "image/png": "[encoded data removed]",
      "text/plain": [
       "<Figure size 432x288 with 1 Axes>"
      ]
     },
     "metadata": {
      "needs_background": "light"
     },
     "output_type": "display_data"
    }
   ],
   "source": [
    "img=torch_out[0]\n",
    "img=img.numpy()\n",
    "img = np.transpose(img, (1, 2, 0))\n",
    "plt.imshow(img)\n",
    "plt.show()"
   ]
  },
  {
   "cell_type": "code",
   "execution_count": 649,
   "metadata": {},
   "outputs": [],
   "source": [
    "def my_roi_pool(input=input, boxes=boxes, output_size=(7,7)):\n",
    "    \n",
    "    roi_start_h = int(boxes[0][1])\n",
    "    roi_start_w = int(boxes[0][2])\n",
    "    roi_end_h = int(boxes[0][3])\n",
    "    roi_end_w = int(boxes[0][4])\n",
    "    \n",
    "    roi_width = (roi_end_w - roi_start_w + 1)\n",
    "    roi_height = (roi_end_h - roi_start_h + 1)\n",
    "\n",
    "    bin_size_w = roi_width / output_size[0]\n",
    "    bin_size_h = roi_height / output_size[1]\n",
    "    \n",
    "    self_result = []\n",
    "    for k in range(input.shape[1]):\n",
    "        temp = []\n",
    "        for j in range(output_size[0]):\n",
    "            sub_res = []\n",
    "            for i in range(output_size[1]):\n",
    "                sub_res.append(input[..., int(0+bin_size_h*(j)):math.ceil(0+bin_size_h*(j+1)),\n",
    "                                     int(0+bin_size_w*(i)):math.ceil(0+bin_size_w*(i+1))][0][k].max())\n",
    "            temp.append(sub_res)\n",
    "        self_result.append(temp)\n",
    "    res = torch.Tensor(self_result)\n",
    "    res = res.unsqueeze(0)\n",
    "    return res"
   ]
  },
  {
   "cell_type": "code",
   "execution_count": 650,
   "metadata": {
    "scrolled": false
   },
   "outputs": [
    {
     "data": {
      "text/plain": [
       "tensor([[[[1.5790, 1.5790, 0.9646, 2.7889, 1.0140, 0.8330, 1.3395],\n",
       "          [1.3331, 1.4697, 1.8569, 3.1269, 3.1269, 0.8330, 0.8330],\n",
       "          [1.3331, 1.3331, 1.0179, 3.1269, 3.1269, 1.2269, 1.2269],\n",
       "          [1.0935, 1.6951, 1.5574, 1.2923, 1.4861, 1.6620, 0.2996],\n",
       "          [1.2782, 1.6951, 1.5574, 1.2923, 1.1095, 1.1375, 1.7267],\n",
       "          [1.2782, 1.1079, 2.3415, 2.3415, 1.3814, 1.3814, 1.8755],\n",
       "          [1.5475, 1.2200, 1.2856, 1.3032, 2.9455, 2.8276, 0.3285]],\n",
       "\n",
       "         [[1.1295, 1.2357, 2.4697, 1.3948, 0.5005, 1.9451, 1.5043],\n",
       "          [0.8747, 1.6279, 1.6279, 1.3948, 0.6708, 1.9451, 0.8700],\n",
       "          [2.3587, 0.6379, 0.6379, 1.5011, 1.9798, 1.9798, 0.8700],\n",
       "          [1.4683, 1.0179, 0.8217, 1.4460, 1.5852, 1.4715, 1.1953],\n",
       "          [1.0179, 1.6843, 1.3646, 1.4460, 1.5852, 1.7468, 1.7468],\n",
       "          [0.7805, 1.6843, 1.2857, 1.2857, 2.4759, 1.7468, 1.7468],\n",
       "          [2.1762, 1.4452, 1.7019, 1.7015, 2.4759, 1.0590, 2.5660]],\n",
       "\n",
       "         [[2.2613, 1.8689, 1.8689, 1.2769, 1.3600, 1.0822, 0.7096],\n",
       "          [1.3977, 1.9158, 1.9158, 1.7900, 1.2769, 1.3777, 1.3777],\n",
       "          [1.3977, 1.2939, 1.7900, 1.7900, 1.2381, 1.3777, 1.3777],\n",
       "          [2.2719, 1.5085, 1.5085, 1.4615, 1.2279, 1.8446, 0.8466],\n",
       "          [2.2719, 1.2437, 1.4592, 1.9057, 1.9057, 1.8446, 0.3477],\n",
       "          [1.4172, 3.8249, 1.4418, 2.4439, 2.4439, 1.3966, 1.8938],\n",
       "          [1.4172, 1.2149, 1.2149, 2.4439, 2.4439, 1.3966, 0.0410]]]])"
      ]
     },
     "execution_count": 650,
     "metadata": {},
     "output_type": "execute_result"
    }
   ],
   "source": [
    "my_out = my_roi_pool()\n",
    "my_out"
   ]
  },
  {
   "cell_type": "code",
   "execution_count": 651,
   "metadata": {},
   "outputs": [
    {
     "name": "stdout",
     "output_type": "stream",
     "text": [
      "tensor(True)\n"
     ]
    }
   ],
   "source": [
    "print(torch.all(torch.abs(my_out - torch_out) <= 1e-6))"
   ]
  },
  {
   "cell_type": "markdown",
   "metadata": {},
   "source": [
    "# 2.4"
   ]
  },
  {
   "cell_type": "code",
   "execution_count": 415,
   "metadata": {},
   "outputs": [
    {
     "data": {
      "text/plain": [
       "tensor([-0.0191, -0.0368, -0.0233])"
      ]
     },
     "execution_count": 415,
     "metadata": {},
     "output_type": "execute_result"
    }
   ],
   "source": [
    "mean = torch.Tensor(3,)\n",
    "for i in range(3):\n",
    "    mean[i] = input[0][i].mean()\n",
    "mean"
   ]
  },
  {
   "cell_type": "code",
   "execution_count": 416,
   "metadata": {},
   "outputs": [
    {
     "data": {
      "text/plain": [
       "tensor([1.0328, 0.9971, 1.0094])"
      ]
     },
     "execution_count": 416,
     "metadata": {},
     "output_type": "execute_result"
    }
   ],
   "source": [
    "var = torch.Tensor(3,)\n",
    "for i in range(3):\n",
    "    var[i] = input[0][i].var()\n",
    "var"
   ]
  },
  {
   "cell_type": "code",
   "execution_count": 426,
   "metadata": {},
   "outputs": [
    {
     "data": {
      "text/plain": [
       "tensor([[[[-0.3766,  0.5735,  1.5725,  ..., -1.4475,  0.9262,  2.0847],\n",
       "          [ 1.2692,  0.1266,  0.6571,  ...,  0.5287,  0.8677,  0.6809],\n",
       "          [ 0.3547,  1.0930, -0.4347,  ...,  1.2764,  0.1840, -0.0931],\n",
       "          ...,\n",
       "          [-0.0596, -0.4301, -0.9783,  ...,  0.7476, -0.9466,  0.9225],\n",
       "          [ 1.7942, -0.8501,  1.1719,  ...,  1.6483,  1.4476,  0.8597],\n",
       "          [ 0.6685,  1.2018, -1.6216,  ..., -0.3274, -0.8482, -0.5354]],\n",
       "\n",
       "         [[ 1.1680,  1.0046,  0.3377,  ..., -1.1417,  0.7837,  0.0826],\n",
       "          [ 1.0036,  0.4145, -0.2393,  ..., -1.2774, -1.6438,  0.3282],\n",
       "          [ 0.9128, -0.5835,  0.1598,  ...,  0.6143,  1.1052,  0.7001],\n",
       "          ...,\n",
       "          [ 0.4275, -0.6680,  0.6898,  ...,  0.1746, -0.1167,  0.2368],\n",
       "          [-0.5590, -0.3695,  0.6708,  ...,  0.5934, -0.1099,  0.1781],\n",
       "          [-0.2277, -0.8610, -0.1733,  ...,  1.6653, -0.5360, -0.2459]],\n",
       "\n",
       "         [[-0.8072,  2.2740, -0.3678,  ..., -0.3133, -0.2430, -0.0277],\n",
       "          [ 1.0278, -1.0807, -1.2142,  ..., -0.0095, -1.8551,  0.2439],\n",
       "          [ 0.6980, -0.3608,  0.5830,  ...,  1.3056, -0.5819, -0.4674],\n",
       "          ...,\n",
       "          [ 0.9788,  0.9750, -0.1387,  ..., -0.7537, -1.5301, -0.7639],\n",
       "          [ 0.2928, -1.4455, -1.2412,  ...,  0.4073,  0.7824,  0.4496],\n",
       "          [-0.2625,  0.5905,  0.0306,  ..., -0.9942, -0.4371,  0.5810]]]])"
      ]
     },
     "execution_count": 426,
     "metadata": {},
     "output_type": "execute_result"
    }
   ],
   "source": [
    "torch_out = torch.nn.functional.batch_norm(input, mean, var, weight=None, bias=None, training=False, momentum=0.1, eps=1e-05)\n",
    "torch_out"
   ]
  },
  {
   "cell_type": "code",
   "execution_count": 423,
   "metadata": {},
   "outputs": [],
   "source": [
    "def my_batch_norm(input=input, running_mean=mean, running_var=var, momentum=0.1, eps=1e-05):\n",
    "    mean = running_mean\n",
    "    var = running_var\n",
    "    mean, var = mean[:,None,None],var[:,None,None]\n",
    "    \n",
    "    return (input-mean) / torch.sqrt(var+eps)"
   ]
  },
  {
   "cell_type": "code",
   "execution_count": 425,
   "metadata": {},
   "outputs": [
    {
     "data": {
      "text/plain": [
       "tensor([[[[-0.3766,  0.5735,  1.5725,  ..., -1.4475,  0.9262,  2.0847],\n",
       "          [ 1.2692,  0.1266,  0.6571,  ...,  0.5287,  0.8677,  0.6809],\n",
       "          [ 0.3547,  1.0930, -0.4347,  ...,  1.2764,  0.1840, -0.0931],\n",
       "          ...,\n",
       "          [-0.0596, -0.4301, -0.9783,  ...,  0.7476, -0.9466,  0.9225],\n",
       "          [ 1.7942, -0.8501,  1.1719,  ...,  1.6483,  1.4476,  0.8597],\n",
       "          [ 0.6685,  1.2018, -1.6216,  ..., -0.3274, -0.8482, -0.5354]],\n",
       "\n",
       "         [[ 1.1680,  1.0046,  0.3377,  ..., -1.1417,  0.7837,  0.0826],\n",
       "          [ 1.0036,  0.4145, -0.2393,  ..., -1.2774, -1.6438,  0.3282],\n",
       "          [ 0.9128, -0.5835,  0.1598,  ...,  0.6143,  1.1052,  0.7001],\n",
       "          ...,\n",
       "          [ 0.4275, -0.6680,  0.6898,  ...,  0.1746, -0.1167,  0.2368],\n",
       "          [-0.5590, -0.3695,  0.6708,  ...,  0.5934, -0.1099,  0.1781],\n",
       "          [-0.2277, -0.8610, -0.1733,  ...,  1.6653, -0.5360, -0.2459]],\n",
       "\n",
       "         [[-0.8072,  2.2740, -0.3678,  ..., -0.3133, -0.2430, -0.0277],\n",
       "          [ 1.0278, -1.0807, -1.2142,  ..., -0.0095, -1.8551,  0.2439],\n",
       "          [ 0.6980, -0.3608,  0.5830,  ...,  1.3056, -0.5819, -0.4674],\n",
       "          ...,\n",
       "          [ 0.9788,  0.9750, -0.1387,  ..., -0.7537, -1.5301, -0.7639],\n",
       "          [ 0.2928, -1.4455, -1.2412,  ...,  0.4073,  0.7824,  0.4496],\n",
       "          [-0.2625,  0.5905,  0.0306,  ..., -0.9942, -0.4371,  0.5810]]]])"
      ]
     },
     "execution_count": 425,
     "metadata": {},
     "output_type": "execute_result"
    }
   ],
   "source": [
    "my_out = my_batch_norm()\n",
    "my_out"
   ]
  },
  {
   "cell_type": "code",
   "execution_count": 428,
   "metadata": {},
   "outputs": [
    {
     "name": "stdout",
     "output_type": "stream",
     "text": [
      "tensor(True)\n"
     ]
    }
   ],
   "source": [
    "print(torch.all(torch.abs(my_out - torch_out) <= 1e-6))"
   ]
  },
  {
   "cell_type": "markdown",
   "metadata": {},
   "source": [
    "# 2.5"
   ]
  },
  {
   "cell_type": "code",
   "execution_count": 599,
   "metadata": {},
   "outputs": [
    {
     "data": {
      "text/plain": [
       "tensor(1.3738)"
      ]
     },
     "execution_count": 599,
     "metadata": {},
     "output_type": "execute_result"
    }
   ],
   "source": [
    "torch_out = torch.nn.functional.cross_entropy(input, target, weight=None, size_average=None, ignore_index=-100, reduce=None, reduction='mean')\n",
    "torch_out"
   ]
  },
  {
   "cell_type": "code",
   "execution_count": 602,
   "metadata": {},
   "outputs": [],
   "source": [
    "def softmax(x):\n",
    "    res = torch.zeros(x.shape)\n",
    "    for i in range(len(x)):\n",
    "        exp = torch.exp(x[i])\n",
    "        sum = torch.sum(exp, dim=0)\n",
    "        softmax = exp/sum\n",
    "        res[i] = -torch.log(softmax)\n",
    "    return res\n",
    "    \n",
    "def nn_loss(input, target):\n",
    "    loss_list = torch.zeros([len(input)])\n",
    "    for k in range(len(input)):\n",
    "        loss = 0\n",
    "        for i in range(target.shape[1]):\n",
    "            for j in range(target.shape[2]):\n",
    "                index = target[k, i, j]\n",
    "                num = input[k, index, i ,j]\n",
    "                loss += num\n",
    "        loss_list[k] = loss / target.shape[1] / target.shape[2]\n",
    "    return loss_list\n",
    "\n",
    "def cross_entropy(input, target):\n",
    "    log_softmax = softmax(input)\n",
    "    loss = nn_loss(log_softmax, target)\n",
    "    return loss.mean()"
   ]
  },
  {
   "cell_type": "code",
   "execution_count": 603,
   "metadata": {},
   "outputs": [
    {
     "data": {
      "text/plain": [
       "tensor(1.3738)"
      ]
     },
     "execution_count": 603,
     "metadata": {},
     "output_type": "execute_result"
    }
   ],
   "source": [
    "my_out = cross_entropy(input, target)\n",
    "my_out"
   ]
  },
  {
   "cell_type": "code",
   "execution_count": 564,
   "metadata": {},
   "outputs": [
    {
     "name": "stdout",
     "output_type": "stream",
     "text": [
      "tensor(True)\n"
     ]
    }
   ],
   "source": [
    "print(torch.all(torch.abs(my_out - torch_out) <= 1e-6))"
   ]
  },
  {
   "cell_type": "markdown",
   "metadata": {},
   "source": [
    "# 2.6"
   ]
  },
  {
   "cell_type": "code",
   "execution_count": 567,
   "metadata": {},
   "outputs": [
    {
     "name": "stderr",
     "output_type": "stream",
     "text": [
      "<ipython-input-567-9627d67d2c07>:1: UserWarning: Using a target size (torch.Size([1, 32, 32])) that is different to the input size (torch.Size([1, 3, 32, 32])). This will likely lead to incorrect results due to broadcasting. Please ensure they have the same size.\n",
      "  torch_out = torch.nn.functional.mse_loss(input, target, size_average=None, reduce=None, reduction='mean')\n"
     ]
    },
    {
     "data": {
      "text/plain": [
       "tensor(2.7353)"
      ]
     },
     "execution_count": 567,
     "metadata": {},
     "output_type": "execute_result"
    }
   ],
   "source": [
    "torch_out = torch.nn.functional.mse_loss(input, target, size_average=None, reduce=None, reduction='mean')\n",
    "torch_out"
   ]
  },
  {
   "cell_type": "code",
   "execution_count": 569,
   "metadata": {},
   "outputs": [],
   "source": [
    "def mse_loss(input, target):\n",
    "    square = (input - target)**2\n",
    "    return square.mean()"
   ]
  },
  {
   "cell_type": "code",
   "execution_count": 570,
   "metadata": {},
   "outputs": [
    {
     "data": {
      "text/plain": [
       "tensor(2.7353)"
      ]
     },
     "execution_count": 570,
     "metadata": {},
     "output_type": "execute_result"
    }
   ],
   "source": [
    "my_out = mse_loss(input, target)\n",
    "my_out"
   ]
  },
  {
   "cell_type": "code",
   "execution_count": 571,
   "metadata": {},
   "outputs": [
    {
     "name": "stdout",
     "output_type": "stream",
     "text": [
      "tensor(True)\n"
     ]
    }
   ],
   "source": [
    "print(torch.all(torch.abs(my_out - torch_out) <= 1e-6))"
   ]
  },
  {
   "cell_type": "code",
   "execution_count": 596,
   "metadata": {},
   "outputs": [
    {
     "data": {
      "text/plain": [
       "32"
      ]
     },
     "execution_count": 596,
     "metadata": {},
     "output_type": "execute_result"
    }
   ],
   "source": [
    "target[0].shape[1]"
   ]
  },
  {
   "cell_type": "code",
   "execution_count": null,
   "metadata": {},
   "outputs": [],
   "source": []
  },
  {
   "cell_type": "code",
   "execution_count": null,
   "metadata": {},
   "outputs": [],
   "source": []
  }
 ],
 "metadata": {
  "kernelspec": {
   "display_name": "Python 3",
   "language": "python",
   "name": "python3"
  },
  "language_info": {
   "codemirror_mode": {
    "name": "ipython",
    "version": 3
   },
   "file_extension": ".py",
   "mimetype": "text/x-python",
   "name": "python",
   "nbconvert_exporter": "python",
   "pygments_lexer": "ipython3",
   "version": "3.8.3"
  }
 },
 "nbformat": 4,
 "nbformat_minor": 4
}
